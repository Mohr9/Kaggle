{
 "cells": [
  {
   "cell_type": "markdown",
   "id": "671d98dd",
   "metadata": {},
   "source": [
    "Ce notebook regroupe l'ensemble des étapes de preprocessing effectué dans le notebook 01_EDA, cela facilitera ls étapes preprocessing sur des données futures "
   ]
  },
  {
   "cell_type": "code",
   "execution_count": null,
   "id": "cba5f7c4",
   "metadata": {},
   "outputs": [],
   "source": [
    "def preprocessing(data):\n",
    "    var_cont = list(data.select_dtypes(exclude=\"object\").columns)\n",
    "    var_qual =  list(data.select_dtypes(include=\"object\").columns)\n",
    "    var_nom = [\"MTRANS\"]\n",
    "    var_ord = [i for i in data.select_dtypes(\"object\") if i not in var_nom ]\n",
    "    \n",
    "    var_dis = [\"FCVC\", \"NCP\", \"CH2O\", \"FAF\", \"TUE\"]\n",
    "    #Arrondir les valeurs :\n",
    "    data[var_dis] = data[var_dis].apply(lambda x:round(x))\n",
    "\n",
    "    #Convertir les colonnes en int :\n",
    "    data = data.astype({col: int for col in var_dis})\n",
    "    var_cat = var_dis+var_qual\n",
    "    \n",
    "    #Supprimons les variables qu'on considère discrètes de var_cont :\n",
    "    var_cont = [i for i in var_cont if i not in var_dis]\n",
    "    return var_cont, var_qual, var_nom,var_ord, var_dis,var_cat, data"
   ]
  },
  {
   "cell_type": "code",
   "execution_count": null,
   "id": "2b7252e1",
   "metadata": {},
   "outputs": [],
   "source": [
    "var_cont, var_qual, var_nom,var_ord, var_dis,var_cat,data = preprocessing(df)"
   ]
  },
  {
   "cell_type": "code",
   "execution_count": null,
   "id": "6234c5ac",
   "metadata": {},
   "outputs": [],
   "source": [
    "def separation_data(data):\n",
    "    X = data.drop('NObeyesdad', axis = 1)\n",
    "    y = data[\"NObeyesdad\"]\n",
    "    X_train,X_test, y_train,y_test = train_test_split(X,y, random_state=42)\n",
    "    return X_train,X_test"
   ]
  },
  {
   "cell_type": "code",
   "execution_count": null,
   "id": "710a7dd9",
   "metadata": {},
   "outputs": [],
   "source": [
    "var_cont.remove(\"id\")\n",
    "var_ord.remove(\"NObeyesdad\")"
   ]
  },
  {
   "cell_type": "code",
   "execution_count": null,
   "id": "6cc79cb2",
   "metadata": {},
   "outputs": [],
   "source": [
    "def standardisation(data):\n",
    "    scaler = StandardScaler()\n",
    "    scaler.fit(X_train[var_cont])\n",
    "    X_train[var_cont] = scaler.transform(X_train[var_cont])\n",
    "    X_test[var_cont] = scaler.transform(X_test[var_cont])\n",
    "    return X_train, X_test"
   ]
  },
  {
   "cell_type": "code",
   "execution_count": null,
   "id": "f7268ce0",
   "metadata": {},
   "outputs": [],
   "source": [
    "def nominalisation(data):\n",
    "    X_train = pd.get_dummies(X_train, columns=var_nom, dtype = int) #dtype pour obtenir des valeurs binaire et non True/False\n",
    "    X_test = pd.get_dummies(X_test, columns = var_nom,dtype = int)\n",
    "    return X_train,X_test"
   ]
  },
  {
   "cell_type": "code",
   "execution_count": null,
   "id": "f0cc0c9c",
   "metadata": {},
   "outputs": [],
   "source": [
    "def ordinalisation(data):\n",
    "    var_ord.remove(\"NObeyesdad\")\n",
    "    ordinalencoder = OrdinalEncoder()\n",
    "    ordinalencoder.fit(X_train[var_ord])\n",
    "    X_train[var_ord] = ordinalencoder.transform(X_train[var_ord])\n",
    "    X_test[var_ord] = ordinalencoder.transform(X_test[var_ord])\n",
    "    return X_train,x_test"
   ]
  },
  {
   "cell_type": "code",
   "execution_count": null,
   "id": "9cd3cd41",
   "metadata": {},
   "outputs": [],
   "source": []
  },
  {
   "cell_type": "code",
   "execution_count": null,
   "id": "f647c113",
   "metadata": {},
   "outputs": [],
   "source": []
  }
 ],
 "metadata": {
  "kernelspec": {
   "display_name": "Python 3 (ipykernel)",
   "language": "python",
   "name": "python3"
  },
  "language_info": {
   "codemirror_mode": {
    "name": "ipython",
    "version": 3
   },
   "file_extension": ".py",
   "mimetype": "text/x-python",
   "name": "python",
   "nbconvert_exporter": "python",
   "pygments_lexer": "ipython3",
   "version": "3.8.18"
  }
 },
 "nbformat": 4,
 "nbformat_minor": 5
}
