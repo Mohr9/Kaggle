{
 "cells": [
  {
   "cell_type": "markdown",
   "id": "46ec5bba",
   "metadata": {},
   "source": [
    "#### Competition : https://www.kaggle.com/competitions/playground-series-s5e6\n",
    "##### notebook EDA  : https://www.kaggle.com/code/mohamedabder/1-eda-predicting-optimal-fertilizers"
   ]
  },
  {
   "cell_type": "code",
   "execution_count": 3,
   "id": "20001073",
   "metadata": {},
   "outputs": [],
   "source": [
    "import pickle\n",
    "import os\n",
    "# ^^^ pyforest auto-imports - don't write above this line\n",
    "import pandas as pd\n",
    "import numpy as np\n",
    "from termcolor import colored\n",
    "\n",
    "import seaborn as sns\n",
    "import matplotlib.pyplot as plt\n",
    "\n",
    "from sklearn.model_selection import train_test_split\n",
    "from sklearn.preprocessing import StandardScaler , LabelEncoder\n",
    "\n",
    "\n",
    "#modeles :\n",
    "from sklearn.dummy import DummyClassifier\n",
    "from sklearn.neighbors import KNeighborsClassifier\n",
    "from sklearn.svm import SVC\n",
    "from sklearn.linear_model import RidgeClassifier, LogisticRegression, SGDClassifier\n",
    "from sklearn.ensemble import RandomForestClassifier,AdaBoostClassifier\n",
    "from xgboost import XGBClassifier\n",
    "\n",
    "\n",
    "#import metrics\n",
    "from sklearn import metrics\n",
    "from sklearn.metrics import roc_curve, roc_auc_score, auc\n",
    "from sklearn.metrics import accuracy_score, precision_score, recall_score, f1_score\n",
    "\n",
    "from sklearn.model_selection import cross_val_score\n",
    "\n",
    "\n",
    "import time\n",
    "import pickle\n",
    "\n",
    "\n",
    "from termcolor import colored\n",
    "import os\n",
    "import warnings\n",
    "warnings.filterwarnings('ignore')"
   ]
  },
  {
   "cell_type": "code",
   "execution_count": 1,
   "id": "6cfe4d33",
   "metadata": {},
   "outputs": [
    {
     "data": {
      "application/javascript": [
       "\n",
       "        if (window._pyforest_update_imports_cell) { window._pyforest_update_imports_cell('import os'); }\n",
       "    "
      ],
      "text/plain": [
       "<IPython.core.display.Javascript object>"
      ]
     },
     "metadata": {},
     "output_type": "display_data"
    },
    {
     "data": {
      "text/plain": [
       "['.ipynb_checkpoints',\n",
       " '1_EDA_Predicting_Optimal_Fertilizers.ipynb',\n",
       " '2_Model_Predicting_Optimal_Fertilizers.ipynb',\n",
       " 'feature_encoder.pkl',\n",
       " 'StandardScaler.pkl',\n",
       " 'targetencoder.pkl']"
      ]
     },
     "execution_count": 1,
     "metadata": {},
     "output_type": "execute_result"
    }
   ],
   "source": [
    "os.listdir()"
   ]
  },
  {
   "cell_type": "code",
   "execution_count": 4,
   "id": "f4a662ef",
   "metadata": {},
   "outputs": [],
   "source": [
    "#chargement fichier : \n",
    "path  = \"D:/Etude_Data_science/Kaggle_competition/16_Predicting_Optimal_Fertilizers/notebook\"\n",
    "with open(f\"{path}/StandardScaler.pkl\", 'rb') as file:\n",
    "    std = pickle.load(file)\n",
    "with open(f\"{path}/feature_encoder.pkl\", 'rb') as file:\n",
    "    feature_encoder = pickle.load(file)\n",
    "with open(f\"{path}/targetencoder.pkl\", 'rb') as file:\n",
    "    targetencoder = pickle.load(file)\n",
    "    \n",
    "# print(f\"Données chargées depuis {colored('scaler.pkl','blue')} : {colored(scaler,'green',attrs=['bold'])}\")"
   ]
  },
  {
   "cell_type": "code",
   "execution_count": 258,
   "id": "c7a47336",
   "metadata": {},
   "outputs": [],
   "source": [
    "train_preprocessed = pd.read_csv(path+\"//train_preprocessed.csv\",index_col=0)\n",
    "df = train_preprocessed.copy()\n",
    "data_path = 'D:\\\\etude_data_science\\\\Kaggle_competition\\\\16_Predicting_Optimal_Fertilizers\\\\data\\\\'\n",
    "test = pd.read_csv(data_path+\"test.csv\")\n",
    "sample = pd.read_csv(data_path+\"sample_submission.csv\")"
   ]
  },
  {
   "cell_type": "code",
   "execution_count": 21,
   "id": "ac1e4ed2",
   "metadata": {},
   "outputs": [
    {
     "data": {
      "text/html": [
       "<div>\n",
       "<style scoped>\n",
       "    .dataframe tbody tr th:only-of-type {\n",
       "        vertical-align: middle;\n",
       "    }\n",
       "\n",
       "    .dataframe tbody tr th {\n",
       "        vertical-align: top;\n",
       "    }\n",
       "\n",
       "    .dataframe thead th {\n",
       "        text-align: right;\n",
       "    }\n",
       "</style>\n",
       "<table border=\"1\" class=\"dataframe\">\n",
       "  <thead>\n",
       "    <tr style=\"text-align: right;\">\n",
       "      <th></th>\n",
       "      <th>id</th>\n",
       "      <th>Temparature</th>\n",
       "      <th>Humidity</th>\n",
       "      <th>Moisture</th>\n",
       "      <th>Soil Type</th>\n",
       "      <th>Crop Type</th>\n",
       "      <th>Nitrogen</th>\n",
       "      <th>Potassium</th>\n",
       "      <th>Phosphorous</th>\n",
       "      <th>Fertilizer Name</th>\n",
       "    </tr>\n",
       "  </thead>\n",
       "  <tbody>\n",
       "    <tr>\n",
       "      <th>0</th>\n",
       "      <td>0</td>\n",
       "      <td>1.364188</td>\n",
       "      <td>1.347532</td>\n",
       "      <td>-0.778377</td>\n",
       "      <td>1</td>\n",
       "      <td>8</td>\n",
       "      <td>1.150999</td>\n",
       "      <td>-0.950608</td>\n",
       "      <td>-1.301500</td>\n",
       "      <td>4</td>\n",
       "    </tr>\n",
       "    <tr>\n",
       "      <th>1</th>\n",
       "      <td>1</td>\n",
       "      <td>-1.118810</td>\n",
       "      <td>1.197100</td>\n",
       "      <td>1.680146</td>\n",
       "      <td>4</td>\n",
       "      <td>4</td>\n",
       "      <td>0.616080</td>\n",
       "      <td>-0.603706</td>\n",
       "      <td>-0.248708</td>\n",
       "      <td>4</td>\n",
       "    </tr>\n",
       "    <tr>\n",
       "      <th>2</th>\n",
       "      <td>2</td>\n",
       "      <td>-0.622210</td>\n",
       "      <td>0.294510</td>\n",
       "      <td>-1.117484</td>\n",
       "      <td>4</td>\n",
       "      <td>4</td>\n",
       "      <td>0.081160</td>\n",
       "      <td>0.436998</td>\n",
       "      <td>-0.410676</td>\n",
       "      <td>2</td>\n",
       "    </tr>\n",
       "    <tr>\n",
       "      <th>3</th>\n",
       "      <td>3</td>\n",
       "      <td>0.867589</td>\n",
       "      <td>0.144078</td>\n",
       "      <td>0.747603</td>\n",
       "      <td>4</td>\n",
       "      <td>0</td>\n",
       "      <td>1.418459</td>\n",
       "      <td>0.436998</td>\n",
       "      <td>-1.382484</td>\n",
       "      <td>0</td>\n",
       "    </tr>\n",
       "    <tr>\n",
       "      <th>4</th>\n",
       "      <td>4</td>\n",
       "      <td>0.867589</td>\n",
       "      <td>-0.457648</td>\n",
       "      <td>-0.184941</td>\n",
       "      <td>3</td>\n",
       "      <td>6</td>\n",
       "      <td>1.240152</td>\n",
       "      <td>-1.297509</td>\n",
       "      <td>-0.410676</td>\n",
       "      <td>5</td>\n",
       "    </tr>\n",
       "  </tbody>\n",
       "</table>\n",
       "</div>"
      ],
      "text/plain": [
       "   id  Temparature  Humidity  Moisture  Soil Type  Crop Type  Nitrogen  \\\n",
       "0   0     1.364188  1.347532 -0.778377          1          8  1.150999   \n",
       "1   1    -1.118810  1.197100  1.680146          4          4  0.616080   \n",
       "2   2    -0.622210  0.294510 -1.117484          4          4  0.081160   \n",
       "3   3     0.867589  0.144078  0.747603          4          0  1.418459   \n",
       "4   4     0.867589 -0.457648 -0.184941          3          6  1.240152   \n",
       "\n",
       "   Potassium  Phosphorous  Fertilizer Name  \n",
       "0  -0.950608    -1.301500                4  \n",
       "1  -0.603706    -0.248708                4  \n",
       "2   0.436998    -0.410676                2  \n",
       "3   0.436998    -1.382484                0  \n",
       "4  -1.297509    -0.410676                5  "
      ]
     },
     "execution_count": 21,
     "metadata": {},
     "output_type": "execute_result"
    }
   ],
   "source": [
    "df.head()"
   ]
  },
  {
   "cell_type": "code",
   "execution_count": 295,
   "id": "398e50bb",
   "metadata": {},
   "outputs": [
    {
     "data": {
      "text/html": [
       "<div>\n",
       "<style scoped>\n",
       "    .dataframe tbody tr th:only-of-type {\n",
       "        vertical-align: middle;\n",
       "    }\n",
       "\n",
       "    .dataframe tbody tr th {\n",
       "        vertical-align: top;\n",
       "    }\n",
       "\n",
       "    .dataframe thead th {\n",
       "        text-align: right;\n",
       "    }\n",
       "</style>\n",
       "<table border=\"1\" class=\"dataframe\">\n",
       "  <thead>\n",
       "    <tr style=\"text-align: right;\">\n",
       "      <th></th>\n",
       "      <th>Temparature</th>\n",
       "      <th>Humidity</th>\n",
       "      <th>Moisture</th>\n",
       "      <th>Soil Type</th>\n",
       "      <th>Crop Type</th>\n",
       "      <th>Nitrogen</th>\n",
       "      <th>Potassium</th>\n",
       "      <th>Phosphorous</th>\n",
       "    </tr>\n",
       "  </thead>\n",
       "  <tbody>\n",
       "    <tr>\n",
       "      <th>0</th>\n",
       "      <td>31</td>\n",
       "      <td>70</td>\n",
       "      <td>52</td>\n",
       "      <td>Sandy</td>\n",
       "      <td>Wheat</td>\n",
       "      <td>34</td>\n",
       "      <td>11</td>\n",
       "      <td>24</td>\n",
       "    </tr>\n",
       "    <tr>\n",
       "      <th>1</th>\n",
       "      <td>27</td>\n",
       "      <td>62</td>\n",
       "      <td>45</td>\n",
       "      <td>Red</td>\n",
       "      <td>Sugarcane</td>\n",
       "      <td>30</td>\n",
       "      <td>14</td>\n",
       "      <td>15</td>\n",
       "    </tr>\n",
       "    <tr>\n",
       "      <th>2</th>\n",
       "      <td>28</td>\n",
       "      <td>72</td>\n",
       "      <td>28</td>\n",
       "      <td>Clayey</td>\n",
       "      <td>Ground Nuts</td>\n",
       "      <td>14</td>\n",
       "      <td>15</td>\n",
       "      <td>4</td>\n",
       "    </tr>\n",
       "    <tr>\n",
       "      <th>3</th>\n",
       "      <td>37</td>\n",
       "      <td>53</td>\n",
       "      <td>57</td>\n",
       "      <td>Black</td>\n",
       "      <td>Ground Nuts</td>\n",
       "      <td>18</td>\n",
       "      <td>17</td>\n",
       "      <td>36</td>\n",
       "    </tr>\n",
       "    <tr>\n",
       "      <th>4</th>\n",
       "      <td>31</td>\n",
       "      <td>55</td>\n",
       "      <td>32</td>\n",
       "      <td>Red</td>\n",
       "      <td>Pulses</td>\n",
       "      <td>13</td>\n",
       "      <td>19</td>\n",
       "      <td>14</td>\n",
       "    </tr>\n",
       "  </tbody>\n",
       "</table>\n",
       "</div>"
      ],
      "text/plain": [
       "   Temparature  Humidity  Moisture Soil Type    Crop Type  Nitrogen  \\\n",
       "0           31        70        52     Sandy        Wheat        34   \n",
       "1           27        62        45       Red    Sugarcane        30   \n",
       "2           28        72        28    Clayey  Ground Nuts        14   \n",
       "3           37        53        57     Black  Ground Nuts        18   \n",
       "4           31        55        32       Red       Pulses        13   \n",
       "\n",
       "   Potassium  Phosphorous  \n",
       "0         11           24  \n",
       "1         14           15  \n",
       "2         15            4  \n",
       "3         17           36  \n",
       "4         19           14  "
      ]
     },
     "execution_count": 295,
     "metadata": {},
     "output_type": "execute_result"
    }
   ],
   "source": [
    "test.head()"
   ]
  },
  {
   "cell_type": "code",
   "execution_count": 269,
   "id": "1fc798d7",
   "metadata": {},
   "outputs": [],
   "source": [
    "df = df.drop(\"id\", axis = 1)\n",
    "id_test = test[\"id\"]\n",
    "test = test.drop(\"id\",axis = 1)"
   ]
  },
  {
   "cell_type": "markdown",
   "id": "6d947b18",
   "metadata": {},
   "source": [
    "##### Encodage des features de test :"
   ]
  },
  {
   "cell_type": "code",
   "execution_count": null,
   "id": "ee662f7e",
   "metadata": {},
   "outputs": [],
   "source": [
    "var_qual_feat = [i for i in feature_encoder.keys()]\n",
    "var_cont = [i for i in df.select_dtypes(include=float)]\n",
    "target = [i for i in df if i not in (var_cont + var_qual_feat )]"
   ]
  },
  {
   "cell_type": "code",
   "execution_count": 296,
   "id": "d59fde45",
   "metadata": {},
   "outputs": [
    {
     "data": {
      "text/plain": [
       "{'Soil Type': LabelEncoder(), 'Crop Type': LabelEncoder()}"
      ]
     },
     "execution_count": 296,
     "metadata": {},
     "output_type": "execute_result"
    }
   ],
   "source": [
    "feature_encoder"
   ]
  },
  {
   "cell_type": "code",
   "execution_count": 298,
   "id": "66b908df",
   "metadata": {},
   "outputs": [],
   "source": [
    "#Parcours du dictionnaire contenant les LabelEncoder de chaque feature :\n",
    "for i in var_qual_feat:\n",
    "    test[i] = feature_encoder[i].transform(test[i]) #Encodage par feature"
   ]
  },
  {
   "cell_type": "code",
   "execution_count": 303,
   "id": "b8e04b2d",
   "metadata": {},
   "outputs": [
    {
     "data": {
      "text/html": [
       "<div>\n",
       "<style scoped>\n",
       "    .dataframe tbody tr th:only-of-type {\n",
       "        vertical-align: middle;\n",
       "    }\n",
       "\n",
       "    .dataframe tbody tr th {\n",
       "        vertical-align: top;\n",
       "    }\n",
       "\n",
       "    .dataframe thead th {\n",
       "        text-align: right;\n",
       "    }\n",
       "</style>\n",
       "<table border=\"1\" class=\"dataframe\">\n",
       "  <thead>\n",
       "    <tr style=\"text-align: right;\">\n",
       "      <th></th>\n",
       "      <th>Temparature</th>\n",
       "      <th>Humidity</th>\n",
       "      <th>Moisture</th>\n",
       "      <th>Soil Type</th>\n",
       "      <th>Crop Type</th>\n",
       "      <th>Nitrogen</th>\n",
       "      <th>Potassium</th>\n",
       "      <th>Phosphorous</th>\n",
       "    </tr>\n",
       "  </thead>\n",
       "  <tbody>\n",
       "    <tr>\n",
       "      <th>0</th>\n",
       "      <td>31</td>\n",
       "      <td>70</td>\n",
       "      <td>52</td>\n",
       "      <td>4</td>\n",
       "      <td>10</td>\n",
       "      <td>34</td>\n",
       "      <td>11</td>\n",
       "      <td>24</td>\n",
       "    </tr>\n",
       "    <tr>\n",
       "      <th>1</th>\n",
       "      <td>27</td>\n",
       "      <td>62</td>\n",
       "      <td>45</td>\n",
       "      <td>3</td>\n",
       "      <td>8</td>\n",
       "      <td>30</td>\n",
       "      <td>14</td>\n",
       "      <td>15</td>\n",
       "    </tr>\n",
       "    <tr>\n",
       "      <th>2</th>\n",
       "      <td>28</td>\n",
       "      <td>72</td>\n",
       "      <td>28</td>\n",
       "      <td>1</td>\n",
       "      <td>2</td>\n",
       "      <td>14</td>\n",
       "      <td>15</td>\n",
       "      <td>4</td>\n",
       "    </tr>\n",
       "    <tr>\n",
       "      <th>3</th>\n",
       "      <td>37</td>\n",
       "      <td>53</td>\n",
       "      <td>57</td>\n",
       "      <td>0</td>\n",
       "      <td>2</td>\n",
       "      <td>18</td>\n",
       "      <td>17</td>\n",
       "      <td>36</td>\n",
       "    </tr>\n",
       "    <tr>\n",
       "      <th>4</th>\n",
       "      <td>31</td>\n",
       "      <td>55</td>\n",
       "      <td>32</td>\n",
       "      <td>3</td>\n",
       "      <td>7</td>\n",
       "      <td>13</td>\n",
       "      <td>19</td>\n",
       "      <td>14</td>\n",
       "    </tr>\n",
       "  </tbody>\n",
       "</table>\n",
       "</div>"
      ],
      "text/plain": [
       "   Temparature  Humidity  Moisture  Soil Type  Crop Type  Nitrogen  Potassium  \\\n",
       "0           31        70        52          4         10        34         11   \n",
       "1           27        62        45          3          8        30         14   \n",
       "2           28        72        28          1          2        14         15   \n",
       "3           37        53        57          0          2        18         17   \n",
       "4           31        55        32          3          7        13         19   \n",
       "\n",
       "   Phosphorous  \n",
       "0           24  \n",
       "1           15  \n",
       "2            4  \n",
       "3           36  \n",
       "4           14  "
      ]
     },
     "execution_count": 303,
     "metadata": {},
     "output_type": "execute_result"
    }
   ],
   "source": [
    "test.head()\n",
    "#Données correctement encodés"
   ]
  },
  {
   "cell_type": "markdown",
   "id": "b61602fd",
   "metadata": {},
   "source": [
    "Les soumissions sont évaluées selon la précision moyenne à 3 (MAP@3) :"
   ]
  },
  {
   "cell_type": "code",
   "execution_count": 271,
   "id": "bcb7325b",
   "metadata": {
    "scrolled": true
   },
   "outputs": [],
   "source": []
  },
  {
   "cell_type": "raw",
   "id": "8195c0ec",
   "metadata": {},
   "source": [
    "#### Sample df : \n",
    "# - Pour tester modelisation rapidement :\n",
    "\n",
    "sample = df.sample(1000)\n",
    "y = sample['Fertilizer Name'] \n",
    "X = sample.drop(['Fertilizer Name'],axis=1)\n",
    "X_train, X_test, y_train,y_test = train_test_split(X, y,test_size = 0.2, random_state =42,stratify=y)"
   ]
  },
  {
   "cell_type": "code",
   "execution_count": 315,
   "id": "d7ea5dc2",
   "metadata": {},
   "outputs": [],
   "source": [
    "y = df['Fertilizer Name'] \n",
    "X = df.drop(['Fertilizer Name'],axis=1)\n",
    "X_train, X_test, y_train,y_test = train_test_split(X, y,test_size = 0.2, random_state =42,stratify=y)\n"
   ]
  },
  {
   "cell_type": "raw",
   "id": "d0e58d28",
   "metadata": {},
   "source": [
    "params = {\n",
    "        'objective': 'multi:softprob',  \n",
    "        'num_class': len(np.unique(y)), \n",
    "        'max_depth': 7,\n",
    "        'learning_rate': 0.03,\n",
    "        'subsample': 0.8,\n",
    "        'max_bin': 128,\n",
    "        'colsample_bytree': 0.3, \n",
    "        'colsample_bylevel': 1,  \n",
    "        'colsample_bynode': 1,  \n",
    "        'tree_method': 'hist',  \n",
    "        'random_state': 42,\n",
    "        'eval_metric': 'mlogloss',\n",
    "        'device': \"cuda\",\n",
    "        'enable_categorical':True,\n",
    "        'n_estimators':10000,\n",
    "        'early_stopping_rounds':50,\n",
    "    }"
   ]
  },
  {
   "cell_type": "code",
   "execution_count": 316,
   "id": "0783e676",
   "metadata": {},
   "outputs": [
    {
     "data": {
      "text/html": [
       "<style>#sk-container-id-6 {color: black;}#sk-container-id-6 pre{padding: 0;}#sk-container-id-6 div.sk-toggleable {background-color: white;}#sk-container-id-6 label.sk-toggleable__label {cursor: pointer;display: block;width: 100%;margin-bottom: 0;padding: 0.3em;box-sizing: border-box;text-align: center;}#sk-container-id-6 label.sk-toggleable__label-arrow:before {content: \"▸\";float: left;margin-right: 0.25em;color: #696969;}#sk-container-id-6 label.sk-toggleable__label-arrow:hover:before {color: black;}#sk-container-id-6 div.sk-estimator:hover label.sk-toggleable__label-arrow:before {color: black;}#sk-container-id-6 div.sk-toggleable__content {max-height: 0;max-width: 0;overflow: hidden;text-align: left;background-color: #f0f8ff;}#sk-container-id-6 div.sk-toggleable__content pre {margin: 0.2em;color: black;border-radius: 0.25em;background-color: #f0f8ff;}#sk-container-id-6 input.sk-toggleable__control:checked~div.sk-toggleable__content {max-height: 200px;max-width: 100%;overflow: auto;}#sk-container-id-6 input.sk-toggleable__control:checked~label.sk-toggleable__label-arrow:before {content: \"▾\";}#sk-container-id-6 div.sk-estimator input.sk-toggleable__control:checked~label.sk-toggleable__label {background-color: #d4ebff;}#sk-container-id-6 div.sk-label input.sk-toggleable__control:checked~label.sk-toggleable__label {background-color: #d4ebff;}#sk-container-id-6 input.sk-hidden--visually {border: 0;clip: rect(1px 1px 1px 1px);clip: rect(1px, 1px, 1px, 1px);height: 1px;margin: -1px;overflow: hidden;padding: 0;position: absolute;width: 1px;}#sk-container-id-6 div.sk-estimator {font-family: monospace;background-color: #f0f8ff;border: 1px dotted black;border-radius: 0.25em;box-sizing: border-box;margin-bottom: 0.5em;}#sk-container-id-6 div.sk-estimator:hover {background-color: #d4ebff;}#sk-container-id-6 div.sk-parallel-item::after {content: \"\";width: 100%;border-bottom: 1px solid gray;flex-grow: 1;}#sk-container-id-6 div.sk-label:hover label.sk-toggleable__label {background-color: #d4ebff;}#sk-container-id-6 div.sk-serial::before {content: \"\";position: absolute;border-left: 1px solid gray;box-sizing: border-box;top: 0;bottom: 0;left: 50%;z-index: 0;}#sk-container-id-6 div.sk-serial {display: flex;flex-direction: column;align-items: center;background-color: white;padding-right: 0.2em;padding-left: 0.2em;position: relative;}#sk-container-id-6 div.sk-item {position: relative;z-index: 1;}#sk-container-id-6 div.sk-parallel {display: flex;align-items: stretch;justify-content: center;background-color: white;position: relative;}#sk-container-id-6 div.sk-item::before, #sk-container-id-6 div.sk-parallel-item::before {content: \"\";position: absolute;border-left: 1px solid gray;box-sizing: border-box;top: 0;bottom: 0;left: 50%;z-index: -1;}#sk-container-id-6 div.sk-parallel-item {display: flex;flex-direction: column;z-index: 1;position: relative;background-color: white;}#sk-container-id-6 div.sk-parallel-item:first-child::after {align-self: flex-end;width: 50%;}#sk-container-id-6 div.sk-parallel-item:last-child::after {align-self: flex-start;width: 50%;}#sk-container-id-6 div.sk-parallel-item:only-child::after {width: 0;}#sk-container-id-6 div.sk-dashed-wrapped {border: 1px dashed gray;margin: 0 0.4em 0.5em 0.4em;box-sizing: border-box;padding-bottom: 0.4em;background-color: white;}#sk-container-id-6 div.sk-label label {font-family: monospace;font-weight: bold;display: inline-block;line-height: 1.2em;}#sk-container-id-6 div.sk-label-container {text-align: center;}#sk-container-id-6 div.sk-container {/* jupyter's `normalize.less` sets `[hidden] { display: none; }` but bootstrap.min.css set `[hidden] { display: none !important; }` so we also need the `!important` here to be able to override the default hidden behavior on the sphinx rendered scikit-learn.org. See: https://github.com/scikit-learn/scikit-learn/issues/21755 */display: inline-block !important;position: relative;}#sk-container-id-6 div.sk-text-repr-fallback {display: none;}</style><div id=\"sk-container-id-6\" class=\"sk-top-container\"><div class=\"sk-text-repr-fallback\"><pre>XGBClassifier(base_score=None, booster=None, callbacks=None,\n",
       "              colsample_bylevel=None, colsample_bynode=None,\n",
       "              colsample_bytree=None, device=None, early_stopping_rounds=None,\n",
       "              enable_categorical=False, eval_metric=None, feature_types=None,\n",
       "              gamma=None, grow_policy=None, importance_type=None,\n",
       "              interaction_constraints=None, learning_rate=None, max_bin=None,\n",
       "              max_cat_threshold=None, max_cat_to_onehot=None,\n",
       "              max_delta_step=None, max_depth=None, max_leaves=None,\n",
       "              min_child_weight=None, missing=nan, monotone_constraints=None,\n",
       "              multi_strategy=None, n_estimators=None, n_jobs=None, num_class=7,\n",
       "              num_parallel_tree=None, ...)</pre><b>In a Jupyter environment, please rerun this cell to show the HTML representation or trust the notebook. <br />On GitHub, the HTML representation is unable to render, please try loading this page with nbviewer.org.</b></div><div class=\"sk-container\" hidden><div class=\"sk-item\"><div class=\"sk-estimator sk-toggleable\"><input class=\"sk-toggleable__control sk-hidden--visually\" id=\"sk-estimator-id-6\" type=\"checkbox\" checked><label for=\"sk-estimator-id-6\" class=\"sk-toggleable__label sk-toggleable__label-arrow\">XGBClassifier</label><div class=\"sk-toggleable__content\"><pre>XGBClassifier(base_score=None, booster=None, callbacks=None,\n",
       "              colsample_bylevel=None, colsample_bynode=None,\n",
       "              colsample_bytree=None, device=None, early_stopping_rounds=None,\n",
       "              enable_categorical=False, eval_metric=None, feature_types=None,\n",
       "              gamma=None, grow_policy=None, importance_type=None,\n",
       "              interaction_constraints=None, learning_rate=None, max_bin=None,\n",
       "              max_cat_threshold=None, max_cat_to_onehot=None,\n",
       "              max_delta_step=None, max_depth=None, max_leaves=None,\n",
       "              min_child_weight=None, missing=nan, monotone_constraints=None,\n",
       "              multi_strategy=None, n_estimators=None, n_jobs=None, num_class=7,\n",
       "              num_parallel_tree=None, ...)</pre></div></div></div></div></div>"
      ],
      "text/plain": [
       "XGBClassifier(base_score=None, booster=None, callbacks=None,\n",
       "              colsample_bylevel=None, colsample_bynode=None,\n",
       "              colsample_bytree=None, device=None, early_stopping_rounds=None,\n",
       "              enable_categorical=False, eval_metric=None, feature_types=None,\n",
       "              gamma=None, grow_policy=None, importance_type=None,\n",
       "              interaction_constraints=None, learning_rate=None, max_bin=None,\n",
       "              max_cat_threshold=None, max_cat_to_onehot=None,\n",
       "              max_delta_step=None, max_depth=None, max_leaves=None,\n",
       "              min_child_weight=None, missing=nan, monotone_constraints=None,\n",
       "              multi_strategy=None, n_estimators=None, n_jobs=None, num_class=7,\n",
       "              num_parallel_tree=None, ...)"
      ]
     },
     "execution_count": 316,
     "metadata": {},
     "output_type": "execute_result"
    }
   ],
   "source": [
    "#instanciation modèle :\n",
    "model = XGBClassifier(\n",
    "    objective='multi:softprob', #softprob pour classification multiclass\n",
    "    num_class=len(np.unique(y_train)),#indique explicitement nombre de classe\n",
    "#     n_estimators=3200,\n",
    "#     learning_rate=0.045,         \n",
    "#     max_depth=7,                \n",
    "#     colsample_bytree=0.6,       \n",
    "#     colsample_bylevel=0.8,      \n",
    "#     subsample=0.8,\n",
    ")\n",
    "\n",
    "#Entrainement : \n",
    "model.fit(X_train, y_train)"
   ]
  },
  {
   "cell_type": "code",
   "execution_count": 317,
   "id": "3708ff6f",
   "metadata": {},
   "outputs": [],
   "source": [
    "#Récupération des probabilités de prédictions : \n",
    "y_pred_probs = model.predict_proba(X_test)\n",
    "#récupération prédiction :\n",
    "y_pred = model.predict(X_test)"
   ]
  },
  {
   "cell_type": "markdown",
   "id": "097168f1",
   "metadata": {},
   "source": [
    "#### Explication pour les prédictions : "
   ]
  },
  {
   "cell_type": "code",
   "execution_count": 318,
   "id": "9641793e",
   "metadata": {},
   "outputs": [
    {
     "name": "stdout",
     "output_type": "stream",
     "text": [
      "shape :  (150000, 7)\n",
      "\n",
      "Probabilité de prediction : \n",
      " [0.15073733 0.20225906 0.10215581 0.16125892 0.12258421 0.10869613\n",
      " 0.15230854]\n",
      "\n",
      "Classes :\n",
      " ['10-26-26' '14-35-14' '17-17-17' '20-20' '28-28' 'DAP' 'Urea']\n"
     ]
    }
   ],
   "source": [
    "print(\"shape : \", y_pred_probs.shape) #(observation, classes distinctes de la target)\n",
    "print()\n",
    "first_obs = y_pred_probs[0]\n",
    "print(\"Probabilité de prediction : \\n\", first_obs)\n",
    "print()\n",
    "print(\"Classes :\\n\", targetencoder.classes_)"
   ]
  },
  {
   "cell_type": "markdown",
   "id": "e172b8eb",
   "metadata": {},
   "source": [
    "- Premièrement avec shape nous voyons le nombre d'observation couplé au nombre de classe distinct : notre target prends  7 valeur différentes\n",
    "- Nous avons affiché ensuite la 1ere observation, on se trouve avec une liste qui contient les probabilités d'appartenance à chaque classe\n",
    "- par exemple x% d'appartenir à la classe 0, y% la classe 1 etc..\n"
   ]
  },
  {
   "cell_type": "code",
   "execution_count": 319,
   "id": "9c4bfa0f",
   "metadata": {
    "scrolled": true
   },
   "outputs": [
    {
     "name": "stdout",
     "output_type": "stream",
     "text": [
      "Pour la première prédiction, nous avons obtenu les % suivants :\n",
      "['15.07 %', '20.23 %', '10.22 %', '16.13 %', '12.26 %', '10.87 %', '15.23 %']\n",
      "\n",
      "La prédiction la plus élevée est la classe : 1\n",
      "Cette classe correspond à la valeur original : 14-35-14\n",
      "\n",
      "Si nous regardons non pas le predict_proba mais le predict :\n",
      "Nous obtenons bien la prédiction : ['14-35-14']\n"
     ]
    }
   ],
   "source": [
    "print(f\"Pour la première prédiction, nous avons obtenu les % suivants :\")\n",
    "pourcent_firstobs = [f\"{np.around(i*100,2)} %\"  for i in first_obs]\n",
    "print(pourcent_firstobs)\n",
    "print()\n",
    "print(f\"La prédiction la plus élevée est la classe : {np.argmax(first_obs)}\")\n",
    "classe_firstobs = np.argmax(first_obs)\n",
    "print(f\"Cette classe correspond à la valeur original : {targetencoder.classes_[classe_firstobs]}\")\n",
    "print()\n",
    "print(f\"Si nous regardons non pas le predict_proba mais le predict :\")\n",
    "print(f\"Nous obtenons bien la prédiction : {targetencoder.inverse_transform(y_pred[[0]])}\")"
   ]
  },
  {
   "cell_type": "markdown",
   "id": "6f4dacad",
   "metadata": {},
   "source": [
    "- L'exemple ci-dessus permet d'illustrer le fonctionnement des prédictions du modèle couplé aux probabilités de prédictions \n",
    "\n",
    "- Cependant ici, nous voulons récupérer les **3 prédictions les plus élevées pour chaque observations**\n",
    "- Le np.argmax ne permet d'obtenir que la position de la prédiciton la plus élevée. Nous allons donc utiliser une autre méthode de numpy : **argsort**\n",
    "    - argsort donne un nouveau tableau qui contient les positions (les indices) des éléments de notre tableau original, mais dans l'ordre où ils devraient apparaître si le tableau était trié.\n",
    "    \n",
    "##### Reprenons notre première observation pour illustrer : "
   ]
  },
  {
   "cell_type": "code",
   "execution_count": 320,
   "id": "a53a0546",
   "metadata": {},
   "outputs": [
    {
     "name": "stdout",
     "output_type": "stream",
     "text": [
      "Prédiction pour la 1ere observation :\n",
      "['15.07 %', '20.23 %', '10.22 %', '16.13 %', '12.26 %', '10.87 %', '15.23 %']\n",
      "\n",
      "Ordre dans lequel les indices devraient être pour les avoir\n",
      "dans l'ordre croissant :\n",
      "\n",
      "[2 5 4 0 6 3 1]\n"
     ]
    }
   ],
   "source": [
    "print(\"Prédiction pour la 1ere observation :\")\n",
    "print(pourcent_firstobs)\n",
    "print()\n",
    "print(\"Ordre dans lequel les indices devraient être pour les avoir\")\n",
    "print(\"dans l'ordre croissant :\")\n",
    "print()\n",
    "print(np.argsort(first_obs))"
   ]
  },
  {
   "cell_type": "markdown",
   "id": "48b40a2d",
   "metadata": {},
   "source": [
    "- Dans le argsort, la 1ere valeur obtenue correspond à l'élément le plus petit de la liste contenant les % de probabilité\n",
    "- Le argsort classe les indices du tableau original dans l'ordre croissant \n",
    "\n",
    "#### Appliquons cela pour récupérer les 3 prédictions les plus élevées pour chaque observation :\n",
    "- Pour cela, nous devrons classe le tableau dans l'ordre **décroissant**"
   ]
  },
  {
   "cell_type": "code",
   "execution_count": 321,
   "id": "4098f0a5",
   "metadata": {
    "scrolled": true
   },
   "outputs": [
    {
     "data": {
      "text/plain": [
       "array([[2, 5, 4, ..., 6, 3, 1],\n",
       "       [6, 5, 3, ..., 4, 0, 1],\n",
       "       [6, 1, 5, ..., 0, 2, 4],\n",
       "       ...,\n",
       "       [6, 2, 5, ..., 3, 1, 0],\n",
       "       [5, 6, 3, ..., 1, 4, 0],\n",
       "       [6, 2, 5, ..., 4, 0, 3]], dtype=int64)"
      ]
     },
     "execution_count": 321,
     "metadata": {},
     "output_type": "execute_result"
    }
   ],
   "source": [
    "np.argsort(y_pred_probs, axis=1) # permet d'avoir le classement des prédictions\n",
    "#axis = 1 pour que le classement dans les colonnes de chaque liste\n",
    "#et non pas entre les liste"
   ]
  },
  {
   "cell_type": "markdown",
   "id": "05ecc88f",
   "metadata": {},
   "source": [
    "- Pour rappel nous avions vu dans les cellules précédentes que le shape était un tuple (observation, nombre de classes)\n",
    "- Ici nous voulons récupérer **toutes les observations** mais uniquement les **3 classes** avec les plus haute probabilités de prédictions\n",
    "- Donc nous allons effectuer un premier slice **[:,-3:]**\n",
    "- Ensuite on va utiliser un autre slice **[:,::-1]** qui permettra de passer de l'ordre **croissant  à décroissant**\n",
    "    - le \"[:\" permet de selectionner toutes les lignes\n",
    "    - le \"::-1\" d'agir sur toutes les colonnes de chaque ligne (donc chaque classe pour toutes les observations) et d'inverser l'ordre grâce au \"-1\"\n",
    "    \n",
    "* Le code suivant permet donc, pour chaque observations, d'obtenir les 3 classes avec la plus haute probabilité de prédiction ( [:,-3:] ). \n",
    "- Sauf que ces prédictions sont classées dans l'ordre **croissant**\n",
    "- En utilisant [:,;;-1] on va, pour chaque observation obtenue, inverser l'ordre pour les avoir dans l'ordre **décroissant**"
   ]
  },
  {
   "cell_type": "code",
   "execution_count": 322,
   "id": "61f8e511",
   "metadata": {},
   "outputs": [
    {
     "data": {
      "text/plain": [
       "array([[1, 3, 6],\n",
       "       [1, 0, 4],\n",
       "       [4, 2, 0],\n",
       "       [5, 3, 0],\n",
       "       [0, 4, 2]], dtype=int64)"
      ]
     },
     "execution_count": 322,
     "metadata": {},
     "output_type": "execute_result"
    }
   ],
   "source": [
    "#Récupération du top 3 prédiction dans l'ordre décroissant  : \n",
    "top_3_preds = np.argsort(y_pred_probs, axis=1)[:, -3:][:, ::-1]  \n",
    "#Affichons 5 premières prédictions :\n",
    "top_3_preds[:5] "
   ]
  },
  {
   "cell_type": "markdown",
   "id": "dc5aecbd",
   "metadata": {},
   "source": [
    "- Il faut aussi transformer y_test en liste de liste : pour chaque observation, le résultat doit être contenu dans une liste "
   ]
  },
  {
   "cell_type": "code",
   "execution_count": 323,
   "id": "ff736209",
   "metadata": {},
   "outputs": [],
   "source": [
    "#transformation de y_test en liste : \n",
    "actual = [[label] for label in y_test]"
   ]
  },
  {
   "cell_type": "markdown",
   "id": "2f39ab36",
   "metadata": {},
   "source": [
    "#### Explication du MAP@3 :\n",
    "\n",
    "- La fonction MAP@3 attend des les vraies valeurs (y_test) au même format que les prédictions, c'est à dire des listes\n",
    "\n",
    "- Par exemple :\n",
    "    - actual = [['A'], ['B'], ['C']]             # c'est notre y_test, il y a 1 bonne réponse par ligne qui correspond à la vraie prédiction\n",
    "    - predicted = [['A', 'B', 'C'], ['C', 'B'], ['C', 'A']]  # C'est nos prédictions, nous y avons récupéré les 3 prédictions les plus suceptibles d'être la bonne prédiction\n",
    "\n",
    "\n",
    "##### ➡️ Le mapk va ensuite comparer :\n",
    "\n",
    "Est-ce que la vraie valeur (ex: 'A') est bien dans le top-3 prédits ?\n",
    "\n",
    "Et si oui, à quelle position (plus c’est haut, mieux c’est).\n",
    "\n",
    "\n",
    "#### Regardons directement sur nos données et les 5 premières lignes :"
   ]
  },
  {
   "cell_type": "code",
   "execution_count": 324,
   "id": "140e11dd",
   "metadata": {},
   "outputs": [
    {
     "data": {
      "text/plain": [
       "[[3], [2], [3], [0], [4]]"
      ]
     },
     "execution_count": 324,
     "metadata": {},
     "output_type": "execute_result"
    }
   ],
   "source": [
    "actual[:5]"
   ]
  },
  {
   "cell_type": "code",
   "execution_count": 325,
   "id": "f44ee46a",
   "metadata": {},
   "outputs": [
    {
     "data": {
      "text/plain": [
       "array([[1, 3, 6],\n",
       "       [1, 0, 4],\n",
       "       [4, 2, 0],\n",
       "       [5, 3, 0],\n",
       "       [0, 4, 2]], dtype=int64)"
      ]
     },
     "execution_count": 325,
     "metadata": {},
     "output_type": "execute_result"
    }
   ],
   "source": [
    "top_3_preds[:5]"
   ]
  },
  {
   "cell_type": "code",
   "execution_count": 326,
   "id": "bbb09925",
   "metadata": {},
   "outputs": [
    {
     "name": "stdout",
     "output_type": "stream",
     "text": [
      "Pour y_test (actual), la vraie target de la première prédiction est : [3]\n",
      "\n",
      "On regarde si cette valeur vraie se trouve dans l'une des 3 prédictions de la 1ere observation\n",
      "Si elle l'est, on regarde sa position, plus elle est élevée et mieux c'est \n",
      "\n",
      "La valeur [3] est dans l'une des 3 prédictions de la première observation ?\n",
      "[1 3 6]\n",
      "Si non => mauvaise prédiction\n",
      "Si oui, en position 1, meilleure prédiction (=score 1) si position 3, plus faible score (1/3 = .33)\n"
     ]
    }
   ],
   "source": [
    "print(f\"Pour y_test (actual), la vraie target de la première prédiction est : {actual[0]}\")\n",
    "print()\n",
    "print(\"On regarde si cette valeur vraie se trouve dans l'une des 3 prédictions de la 1ere observation\")\n",
    "print(\"Si elle l'est, on regarde sa position, plus elle est élevée et mieux c'est \")\n",
    "print()\n",
    "print(f\"La valeur {actual[0]} est dans l'une des 3 prédictions de la première observation ?\")\n",
    "print(f\"{top_3_preds[0]}\")\n",
    "print(\"Si non => mauvaise prédiction\")\n",
    "print(\"Si oui, en position 1, meilleure prédiction (=score 1) si position 3, plus faible score (1/3 = .33)\")\n",
    "#et si en position 2 alors 1/2 = .5 de score"
   ]
  },
  {
   "cell_type": "markdown",
   "id": "1c98455d",
   "metadata": {},
   "source": [
    "- **Création de la fonction pour le calcul map@3** :\n",
    "    - (code récupéré sur le notebook https://www.kaggle.com/code/satyaprakashshukl/predicting-optimal-fertilizers)\n"
   ]
  },
  {
   "cell_type": "code",
   "execution_count": 327,
   "id": "442f2e6a",
   "metadata": {},
   "outputs": [],
   "source": [
    "def mapk(actual, predicted, k=3):\n",
    "    def apk(a, p, k):\n",
    "        p = p[:k]\n",
    "        score = 0.0\n",
    "        hits = 0\n",
    "        seen = set()\n",
    "        for i, pred in enumerate(p):\n",
    "            if pred in a and pred not in seen:\n",
    "                hits += 1\n",
    "                score += hits / (i + 1.0)\n",
    "                seen.add(pred)\n",
    "        return score / min(len(a), k)\n",
    "    return np.mean([apk(a, p, k) for a, p in zip(actual, predicted)])"
   ]
  },
  {
   "cell_type": "markdown",
   "id": "e82ba261",
   "metadata": {},
   "source": [
    "Récupération du score map3 : "
   ]
  },
  {
   "cell_type": "code",
   "execution_count": 328,
   "id": "f30e3ead",
   "metadata": {},
   "outputs": [
    {
     "name": "stdout",
     "output_type": "stream",
     "text": [
      "✅ MAP@3 Score: 0.32923\n"
     ]
    }
   ],
   "source": [
    "map3_score = mapk(actual, top_3_preds)\n",
    "print(f\"✅ MAP@3 Score: {map3_score:.5f}\")"
   ]
  },
  {
   "cell_type": "markdown",
   "id": "e41e22b5",
   "metadata": {},
   "source": [
    "#### Soumission des prédictions : "
   ]
  },
  {
   "cell_type": "code",
   "execution_count": 329,
   "id": "619c2165",
   "metadata": {},
   "outputs": [
    {
     "name": "stdout",
     "output_type": "stream",
     "text": [
      "✅ Submission file saved as 'submission.csv'\n"
     ]
    }
   ],
   "source": [
    "test_probs = model.predict_proba(test)\n",
    "top_3_preds = np.argsort(test_probs, axis=1)[:, -3:][:, ::-1]\n",
    "top_3_labels = targetencoder.inverse_transform(top_3_preds.ravel()).reshape(top_3_preds.shape)\n",
    "submission = pd.DataFrame({\n",
    "    'id': id_test,\n",
    "    'Fertilizer Name': [' '.join(row) for row in top_3_labels]\n",
    "})\n",
    "submission.to_csv('submission.csv', index=False)\n",
    "print(\"✅ Submission file saved as 'submission.csv'\")\n"
   ]
  },
  {
   "cell_type": "code",
   "execution_count": 330,
   "id": "65b89e7e",
   "metadata": {},
   "outputs": [
    {
     "data": {
      "text/html": [
       "<div>\n",
       "<style scoped>\n",
       "    .dataframe tbody tr th:only-of-type {\n",
       "        vertical-align: middle;\n",
       "    }\n",
       "\n",
       "    .dataframe tbody tr th {\n",
       "        vertical-align: top;\n",
       "    }\n",
       "\n",
       "    .dataframe thead th {\n",
       "        text-align: right;\n",
       "    }\n",
       "</style>\n",
       "<table border=\"1\" class=\"dataframe\">\n",
       "  <thead>\n",
       "    <tr style=\"text-align: right;\">\n",
       "      <th></th>\n",
       "      <th>id</th>\n",
       "      <th>Fertilizer Name</th>\n",
       "    </tr>\n",
       "  </thead>\n",
       "  <tbody>\n",
       "    <tr>\n",
       "      <th>0</th>\n",
       "      <td>750000</td>\n",
       "      <td>14-35-14 20-20 DAP</td>\n",
       "    </tr>\n",
       "    <tr>\n",
       "      <th>1</th>\n",
       "      <td>750001</td>\n",
       "      <td>14-35-14 20-20 28-28</td>\n",
       "    </tr>\n",
       "    <tr>\n",
       "      <th>2</th>\n",
       "      <td>750002</td>\n",
       "      <td>10-26-26 14-35-14 28-28</td>\n",
       "    </tr>\n",
       "    <tr>\n",
       "      <th>3</th>\n",
       "      <td>750003</td>\n",
       "      <td>10-26-26 28-28 20-20</td>\n",
       "    </tr>\n",
       "    <tr>\n",
       "      <th>4</th>\n",
       "      <td>750004</td>\n",
       "      <td>14-35-14 20-20 28-28</td>\n",
       "    </tr>\n",
       "  </tbody>\n",
       "</table>\n",
       "</div>"
      ],
      "text/plain": [
       "       id          Fertilizer Name\n",
       "0  750000       14-35-14 20-20 DAP\n",
       "1  750001     14-35-14 20-20 28-28\n",
       "2  750002  10-26-26 14-35-14 28-28\n",
       "3  750003     10-26-26 28-28 20-20\n",
       "4  750004     14-35-14 20-20 28-28"
      ]
     },
     "execution_count": 330,
     "metadata": {},
     "output_type": "execute_result"
    }
   ],
   "source": [
    "submission.head()"
   ]
  },
  {
   "cell_type": "markdown",
   "id": "6ad6f4b1",
   "metadata": {},
   "source": [
    "# On peut essayer avec d'autres modèles"
   ]
  }
 ],
 "metadata": {
  "kernelspec": {
   "display_name": "Python 3 (ipykernel)",
   "language": "python",
   "name": "python3"
  },
  "language_info": {
   "codemirror_mode": {
    "name": "ipython",
    "version": 3
   },
   "file_extension": ".py",
   "mimetype": "text/x-python",
   "name": "python",
   "nbconvert_exporter": "python",
   "pygments_lexer": "ipython3",
   "version": "3.8.18"
  }
 },
 "nbformat": 4,
 "nbformat_minor": 5
}
