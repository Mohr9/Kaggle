{
 "cells": [
  {
   "cell_type": "markdown",
   "metadata": {},
   "source": [
    "# Binary Prediction of Poisonous Mushrooms\n",
    "- https://www.kaggle.com/competitions/playground-series-s4e8\n",
    "- But  : prédire si un champignon est toxique ou non en fonction de ses différentes caractéristiques\n",
    "\n",
    "# Plan : \n",
    "## 1 Découverte du jeu de données\n",
    "- Dimensions des données\n",
    "- Features signification\n",
    "- Target \n",
    "\n",
    "## 2. imputation des données\n",
    "- Colonnes avec peu de NaN\n",
    "- Colonnes avec beaucoup de NaN\n",
    "- Colonne avec un nombre de NaN modéré\n",
    "\n",
    "## 3. Visualisation des données\n",
    "- Analyse univariée\n",
    "- Analyse bivariée : target Vs features\n",
    "\n",
    "## 4. test statistiques\n",
    "- Target VS continue\n",
    "- Target vs qualitative\n",
    "## 5. Preprocessing\n",
    "## 6. Modelisation"
   ]
  },
  {
   "cell_type": "code",
   "execution_count": 51,
   "metadata": {
    "_cell_guid": "b1076dfc-b9ad-4769-8c92-a6c4dae69d19",
    "_uuid": "8f2839f25d086af736a60e9eeb907d3b93b6e0e5",
    "execution": {
     "iopub.execute_input": "2024-08-12T10:36:29.658350Z",
     "iopub.status.busy": "2024-08-12T10:36:29.657925Z",
     "iopub.status.idle": "2024-08-12T10:36:29.668703Z",
     "shell.execute_reply": "2024-08-12T10:36:29.667497Z",
     "shell.execute_reply.started": "2024-08-12T10:36:29.658316Z"
    }
   },
   "outputs": [],
   "source": [
    "import matplotlib.pyplot as plt\n",
    "from sklearn.model_selection import train_test_split\n",
    "from sklearn.preprocessing import StandardScaler\n",
    "import pickle\n",
    "import pandas as pd\n",
    "from sklearn.preprocessing import LabelEncoder\n",
    "from sklearn.impute import SimpleImputer\n",
    "import seaborn as sns\n",
    "# ^^^ pyforest auto-imports - don't write above this line\n",
    "import numpy as np \n",
    "import pandas as pd \n",
    "\n",
    "import seaborn as sns\n",
    "import matplotlib.pyplot as plt\n",
    "%matplotlib inline\n",
    "\n",
    "from termcolor import colored\n",
    "\n",
    "from scipy.stats import chi2_contingency, kruskal, pearsonr, shapiro, levene, mannwhitneyu, spearmanr\n",
    "\n",
    "from sklearn.preprocessing import StandardScaler, LabelEncoder\n",
    "from sklearn.impute import SimpleImputer\n",
    "from sklearn.model_selection import train_test_split\n",
    "\n",
    "import pickle\n",
    "import os\n",
    "import warnings\n",
    "\n",
    "warnings.filterwarnings(\"ignore\")"
   ]
  },
  {
   "cell_type": "markdown",
   "metadata": {},
   "source": [
    "# 1. Découverte du jeu de données"
   ]
  },
  {
   "cell_type": "code",
   "execution_count": 52,
   "metadata": {
    "execution": {
     "iopub.execute_input": "2024-08-12T10:36:29.670921Z",
     "iopub.status.busy": "2024-08-12T10:36:29.670452Z",
     "iopub.status.idle": "2024-08-12T10:36:45.840861Z",
     "shell.execute_reply": "2024-08-12T10:36:45.839489Z",
     "shell.execute_reply.started": "2024-08-12T10:36:29.670892Z"
    }
   },
   "outputs": [],
   "source": [
    "train = pd.read_csv(r\"D:\\Etude_Data_science\\Kaggle_competition\\10_Binary_Prediction_of_Poisonous_Mushrooms\\dataset\\train.csv\")\n",
    "test =  pd.read_csv(r\"D:\\Etude_Data_science\\Kaggle_competition\\10_Binary_Prediction_of_Poisonous_Mushrooms\\dataset\\test.csv\")\n"
   ]
  },
  {
   "cell_type": "code",
   "execution_count": 53,
   "metadata": {
    "execution": {
     "iopub.execute_input": "2024-08-12T10:36:45.843182Z",
     "iopub.status.busy": "2024-08-12T10:36:45.842818Z",
     "iopub.status.idle": "2024-08-12T10:36:46.727428Z",
     "shell.execute_reply": "2024-08-12T10:36:46.726260Z",
     "shell.execute_reply.started": "2024-08-12T10:36:45.843153Z"
    }
   },
   "outputs": [],
   "source": [
    "df = train.copy()"
   ]
  },
  {
   "cell_type": "code",
   "execution_count": 54,
   "metadata": {
    "execution": {
     "iopub.execute_input": "2024-08-12T10:36:46.729169Z",
     "iopub.status.busy": "2024-08-12T10:36:46.728825Z",
     "iopub.status.idle": "2024-08-12T10:36:46.734655Z",
     "shell.execute_reply": "2024-08-12T10:36:46.733308Z",
     "shell.execute_reply.started": "2024-08-12T10:36:46.729135Z"
    }
   },
   "outputs": [],
   "source": [
    "pd.set_option(\"display.max_columns\",None)"
   ]
  },
  {
   "cell_type": "code",
   "execution_count": 55,
   "metadata": {
    "execution": {
     "iopub.execute_input": "2024-08-12T10:36:46.737962Z",
     "iopub.status.busy": "2024-08-12T10:36:46.737633Z",
     "iopub.status.idle": "2024-08-12T10:36:46.768113Z",
     "shell.execute_reply": "2024-08-12T10:36:46.766858Z",
     "shell.execute_reply.started": "2024-08-12T10:36:46.737934Z"
    }
   },
   "outputs": [
    {
     "name": "stdout",
     "output_type": "stream",
     "text": [
      "(3116945, 22)\n"
     ]
    },
    {
     "data": {
      "text/html": [
       "<div>\n",
       "<style scoped>\n",
       "    .dataframe tbody tr th:only-of-type {\n",
       "        vertical-align: middle;\n",
       "    }\n",
       "\n",
       "    .dataframe tbody tr th {\n",
       "        vertical-align: top;\n",
       "    }\n",
       "\n",
       "    .dataframe thead th {\n",
       "        text-align: right;\n",
       "    }\n",
       "</style>\n",
       "<table border=\"1\" class=\"dataframe\">\n",
       "  <thead>\n",
       "    <tr style=\"text-align: right;\">\n",
       "      <th></th>\n",
       "      <th>id</th>\n",
       "      <th>class</th>\n",
       "      <th>cap-diameter</th>\n",
       "      <th>cap-shape</th>\n",
       "      <th>cap-surface</th>\n",
       "      <th>cap-color</th>\n",
       "      <th>does-bruise-or-bleed</th>\n",
       "      <th>gill-attachment</th>\n",
       "      <th>gill-spacing</th>\n",
       "      <th>gill-color</th>\n",
       "      <th>stem-height</th>\n",
       "      <th>stem-width</th>\n",
       "      <th>stem-root</th>\n",
       "      <th>stem-surface</th>\n",
       "      <th>stem-color</th>\n",
       "      <th>veil-type</th>\n",
       "      <th>veil-color</th>\n",
       "      <th>has-ring</th>\n",
       "      <th>ring-type</th>\n",
       "      <th>spore-print-color</th>\n",
       "      <th>habitat</th>\n",
       "      <th>season</th>\n",
       "    </tr>\n",
       "  </thead>\n",
       "  <tbody>\n",
       "    <tr>\n",
       "      <th>0</th>\n",
       "      <td>0</td>\n",
       "      <td>e</td>\n",
       "      <td>8.80</td>\n",
       "      <td>f</td>\n",
       "      <td>s</td>\n",
       "      <td>u</td>\n",
       "      <td>f</td>\n",
       "      <td>a</td>\n",
       "      <td>c</td>\n",
       "      <td>w</td>\n",
       "      <td>4.51</td>\n",
       "      <td>15.39</td>\n",
       "      <td>NaN</td>\n",
       "      <td>NaN</td>\n",
       "      <td>w</td>\n",
       "      <td>NaN</td>\n",
       "      <td>NaN</td>\n",
       "      <td>f</td>\n",
       "      <td>f</td>\n",
       "      <td>NaN</td>\n",
       "      <td>d</td>\n",
       "      <td>a</td>\n",
       "    </tr>\n",
       "    <tr>\n",
       "      <th>1</th>\n",
       "      <td>1</td>\n",
       "      <td>p</td>\n",
       "      <td>4.51</td>\n",
       "      <td>x</td>\n",
       "      <td>h</td>\n",
       "      <td>o</td>\n",
       "      <td>f</td>\n",
       "      <td>a</td>\n",
       "      <td>c</td>\n",
       "      <td>n</td>\n",
       "      <td>4.79</td>\n",
       "      <td>6.48</td>\n",
       "      <td>NaN</td>\n",
       "      <td>y</td>\n",
       "      <td>o</td>\n",
       "      <td>NaN</td>\n",
       "      <td>NaN</td>\n",
       "      <td>t</td>\n",
       "      <td>z</td>\n",
       "      <td>NaN</td>\n",
       "      <td>d</td>\n",
       "      <td>w</td>\n",
       "    </tr>\n",
       "    <tr>\n",
       "      <th>2</th>\n",
       "      <td>2</td>\n",
       "      <td>e</td>\n",
       "      <td>6.94</td>\n",
       "      <td>f</td>\n",
       "      <td>s</td>\n",
       "      <td>b</td>\n",
       "      <td>f</td>\n",
       "      <td>x</td>\n",
       "      <td>c</td>\n",
       "      <td>w</td>\n",
       "      <td>6.85</td>\n",
       "      <td>9.93</td>\n",
       "      <td>NaN</td>\n",
       "      <td>s</td>\n",
       "      <td>n</td>\n",
       "      <td>NaN</td>\n",
       "      <td>NaN</td>\n",
       "      <td>f</td>\n",
       "      <td>f</td>\n",
       "      <td>NaN</td>\n",
       "      <td>l</td>\n",
       "      <td>w</td>\n",
       "    </tr>\n",
       "    <tr>\n",
       "      <th>3</th>\n",
       "      <td>3</td>\n",
       "      <td>e</td>\n",
       "      <td>3.88</td>\n",
       "      <td>f</td>\n",
       "      <td>y</td>\n",
       "      <td>g</td>\n",
       "      <td>f</td>\n",
       "      <td>s</td>\n",
       "      <td>NaN</td>\n",
       "      <td>g</td>\n",
       "      <td>4.16</td>\n",
       "      <td>6.53</td>\n",
       "      <td>NaN</td>\n",
       "      <td>NaN</td>\n",
       "      <td>w</td>\n",
       "      <td>NaN</td>\n",
       "      <td>NaN</td>\n",
       "      <td>f</td>\n",
       "      <td>f</td>\n",
       "      <td>NaN</td>\n",
       "      <td>d</td>\n",
       "      <td>u</td>\n",
       "    </tr>\n",
       "    <tr>\n",
       "      <th>4</th>\n",
       "      <td>4</td>\n",
       "      <td>e</td>\n",
       "      <td>5.85</td>\n",
       "      <td>x</td>\n",
       "      <td>l</td>\n",
       "      <td>w</td>\n",
       "      <td>f</td>\n",
       "      <td>d</td>\n",
       "      <td>NaN</td>\n",
       "      <td>w</td>\n",
       "      <td>3.37</td>\n",
       "      <td>8.36</td>\n",
       "      <td>NaN</td>\n",
       "      <td>NaN</td>\n",
       "      <td>w</td>\n",
       "      <td>NaN</td>\n",
       "      <td>NaN</td>\n",
       "      <td>f</td>\n",
       "      <td>f</td>\n",
       "      <td>NaN</td>\n",
       "      <td>g</td>\n",
       "      <td>a</td>\n",
       "    </tr>\n",
       "  </tbody>\n",
       "</table>\n",
       "</div>"
      ],
      "text/plain": [
       "   id class  cap-diameter cap-shape cap-surface cap-color  \\\n",
       "0   0     e          8.80         f           s         u   \n",
       "1   1     p          4.51         x           h         o   \n",
       "2   2     e          6.94         f           s         b   \n",
       "3   3     e          3.88         f           y         g   \n",
       "4   4     e          5.85         x           l         w   \n",
       "\n",
       "  does-bruise-or-bleed gill-attachment gill-spacing gill-color  stem-height  \\\n",
       "0                    f               a            c          w         4.51   \n",
       "1                    f               a            c          n         4.79   \n",
       "2                    f               x            c          w         6.85   \n",
       "3                    f               s          NaN          g         4.16   \n",
       "4                    f               d          NaN          w         3.37   \n",
       "\n",
       "   stem-width stem-root stem-surface stem-color veil-type veil-color has-ring  \\\n",
       "0       15.39       NaN          NaN          w       NaN        NaN        f   \n",
       "1        6.48       NaN            y          o       NaN        NaN        t   \n",
       "2        9.93       NaN            s          n       NaN        NaN        f   \n",
       "3        6.53       NaN          NaN          w       NaN        NaN        f   \n",
       "4        8.36       NaN          NaN          w       NaN        NaN        f   \n",
       "\n",
       "  ring-type spore-print-color habitat season  \n",
       "0         f               NaN       d      a  \n",
       "1         z               NaN       d      w  \n",
       "2         f               NaN       l      w  \n",
       "3         f               NaN       d      u  \n",
       "4         f               NaN       g      a  "
      ]
     },
     "execution_count": 55,
     "metadata": {},
     "output_type": "execute_result"
    }
   ],
   "source": [
    "print(df.shape)\n",
    "df.head()"
   ]
  },
  {
   "cell_type": "code",
   "execution_count": 56,
   "metadata": {
    "execution": {
     "iopub.execute_input": "2024-08-12T10:36:46.770310Z",
     "iopub.status.busy": "2024-08-12T10:36:46.769901Z",
     "iopub.status.idle": "2024-08-12T10:36:46.785905Z",
     "shell.execute_reply": "2024-08-12T10:36:46.784646Z",
     "shell.execute_reply.started": "2024-08-12T10:36:46.770274Z"
    }
   },
   "outputs": [
    {
     "name": "stdout",
     "output_type": "stream",
     "text": [
      "<class 'pandas.core.frame.DataFrame'>\n",
      "RangeIndex: 3116945 entries, 0 to 3116944\n",
      "Data columns (total 22 columns):\n",
      " #   Column                Dtype  \n",
      "---  ------                -----  \n",
      " 0   id                    int64  \n",
      " 1   class                 object \n",
      " 2   cap-diameter          float64\n",
      " 3   cap-shape             object \n",
      " 4   cap-surface           object \n",
      " 5   cap-color             object \n",
      " 6   does-bruise-or-bleed  object \n",
      " 7   gill-attachment       object \n",
      " 8   gill-spacing          object \n",
      " 9   gill-color            object \n",
      " 10  stem-height           float64\n",
      " 11  stem-width            float64\n",
      " 12  stem-root             object \n",
      " 13  stem-surface          object \n",
      " 14  stem-color            object \n",
      " 15  veil-type             object \n",
      " 16  veil-color            object \n",
      " 17  has-ring              object \n",
      " 18  ring-type             object \n",
      " 19  spore-print-color     object \n",
      " 20  habitat               object \n",
      " 21  season                object \n",
      "dtypes: float64(3), int64(1), object(18)\n",
      "memory usage: 523.2+ MB\n"
     ]
    }
   ],
   "source": [
    "df.info()"
   ]
  },
  {
   "cell_type": "markdown",
   "metadata": {},
   "source": [
    "### Feature signification : \n",
    "#### English\n",
    "     1. cap-shape:                bell=b,conical=c,convex=x,flat=f, knobbed=k,sunken=s\n",
    "     2. cap-surface:              fibrous=f,grooves=g,scaly=y,smooth=s\n",
    "     3. cap-color:                brown=n,buff=b,cinnamon=c,gray=g,green=r, pink=p,purple=u,red=e,white=w,yellow=y\n",
    "     4. does-br uise-or-bleed :   bruises=t,no=f\n",
    "     5. odor:                     almond=a,anise=l,creosote=c,fishy=y,foul=f, musty=m,none=n,pungent=p,spicy=s\n",
    "     6. gill-attachment:          attached=a,descending=d,free=f,notched=n\n",
    "     7. gill-spacing:             close=c,crowded=w,distant=d\n",
    "     8. gill-size:                broad=b,narrow=n\n",
    "     9. gill-color:               black=k,brown=n,buff=b,chocolate=h,gray=g, green=r,orange=o,pink=p,purple=u,red=e, white=w,yellow=y\n",
    "    10. stalk-shape:              enlarging=e,tapering=t\n",
    "    11. stalk-root:               bulbous=b,club=c,cup=u,equal=e, rhizomorphs=z,rooted=r,missing=?\n",
    "    12. stalk-surface-above-ring: fibrous=f,scaly=y,silky=k,smooth=s\n",
    "    13. stalk-surface-below-ring: fibrous=f,scaly=y,silky=k,smooth=s\n",
    "    14. stalk-color-above-ring:   brown=n,buff=b,cinnamon=c,gray=g,orange=o, pink=p,red=e,white=w,yellow=y\n",
    "    15. stalk-color-below-ring:   brown=n,buff=b,cinnamon=c,gray=g,orange=o, pink=p,red=e,white=w,yellow=y\n",
    "    16. veil-type:                partial=p,universal=u\n",
    "    17. veil-color:               brown=n,orange=o,white=w,yellow=y\n",
    "    18. ring-number:              none=n,one=o,two=t\n",
    "    19. ring-type:                cobwebby=c,evanescent=e,flaring=f,large=l, none=n,pendant=p,sheathing=s,zone=z\n",
    "    20. spore-print-color:        black=k,brown=n,buff=b,chocolate=h,green=r, orange=o,purple=u,white=w,yellow=y\n",
    "    21. population:               abundant=a,clustered=c,numerous=n, scattered=s,several=v,solitary=y\n",
    "    22. habitat:                  grasses=g,leaves=l,meadows=m,paths=p, urban=u,waste=w,woods=d\n",
    "\n"
   ]
  },
  {
   "cell_type": "markdown",
   "metadata": {},
   "source": [
    "#### French :\n",
    "\n",
    "     1. forme du chapeau : cloche=b, conique=c, convexe=x, plat=f, noueux=k, creux=s\n",
    "     2. surface de la calotte : fibreuse=f, rainurée=g, écailleuse=y, lisse=s\n",
    "     3. couleur de la coiffe : brun=n, chamois=b, cannelle=c, gris=g, vert=r, rose=p, violet=u, rouge=e, blanc=w, jaune=y\n",
    "     4. ecchymoses? : ecchymoses=t,no=f\n",
    "     5. odeur : amande=a, anis=l, créosote=c, poisson=y, fétide=f, moisi=m, aucune=n, piquant=p, épicé=s\n",
    "     6. attachement de l'or : attaché=a, descendant=d, libre=f, cranté=n\n",
    "     7. espacement de l'ouïe : proche=c, serré=w, éloigné=d\n",
    "     8. taille de la branchie : large=b, étroite=n\n",
    "     9. couleur des branchies : noir=k, brun=n, chamois=b, chocolat=h, gris=g, vert=r, orange=o, rose=p, violet=u, rouge=e, blanc=w, jaune=y\n",
    "    10. forme de la tige : élargie=e, effilée=t\n",
    "    11. tige-racine : bulbeuse=b, massue=c, cupule=u, égale=e, rhizomorphe=z, enracinée=r, manquante= ?\n",
    "    12. surface du pédoncule au-dessus de l'anneau : fibreux=f, écailleux=y, soyeux=k, lisse=s\n",
    "    13. surface du pédoncule au-dessous de l'anneau : fibreux=f,écailleux=y,soyeux=k,lisse=s\n",
    "    14. couleur du pédoncule au-dessus de l'anneau : brun=n, chamois=b, cannelle=c, gris=g, orange=o, rose=p, rouge=e, blanc=w, jaune=y\n",
    "    15. couleur du pédoncule au-dessous de l'anneau : brun=n, chamois=b, cannelle=c, gris=g, orange=o, rose=p, rouge=e, blanc=w, jaune=y\n",
    "    16. type de voile : partiel=p,universel=u\n",
    "    17. couleur du voile : brun=n,orange=o,blanc=w,jaune=y\n",
    "        18. numéro de l'anneau : none=n,one=o,two=t\n",
    "    19. type d'anneau : cobwebby=c, evanescent=e, flaring=f, large=l, none=n, pendant=p, sheathing=s, zone=z\n",
    "    20. couleur de l'empreinte des spores : noir=k, brun=n, chamois=b, chocolat=h, vert=r, orange=o, violet=u, blanc=w, jaune=y\n",
    "    21. population : abondante=a, groupée=c, nombreuse=n, dispersée=s, plusieurs=v, solitaire=y\n",
    "    22. habitat : herbes=g, feuilles=l, prairies=m, chemins=p, urbain=u, déchets=w, bois=d"
   ]
  },
  {
   "cell_type": "markdown",
   "metadata": {},
   "source": [
    "#### Target : Class"
   ]
  },
  {
   "cell_type": "code",
   "execution_count": 57,
   "metadata": {
    "execution": {
     "iopub.execute_input": "2024-08-12T10:36:46.787798Z",
     "iopub.status.busy": "2024-08-12T10:36:46.787418Z",
     "iopub.status.idle": "2024-08-12T10:36:47.220841Z",
     "shell.execute_reply": "2024-08-12T10:36:47.219529Z",
     "shell.execute_reply.started": "2024-08-12T10:36:46.787768Z"
    }
   },
   "outputs": [],
   "source": [
    "pie_target = df[\"class\"].value_counts(normalize=True)*100"
   ]
  },
  {
   "cell_type": "code",
   "execution_count": 58,
   "metadata": {
    "execution": {
     "iopub.execute_input": "2024-08-12T10:36:47.222472Z",
     "iopub.status.busy": "2024-08-12T10:36:47.222120Z",
     "iopub.status.idle": "2024-08-12T10:36:47.390306Z",
     "shell.execute_reply": "2024-08-12T10:36:47.388748Z",
     "shell.execute_reply.started": "2024-08-12T10:36:47.222442Z"
    }
   },
   "outputs": [
    {
     "data": {
      "image/png": "[encoded data removed]",
      "text/plain": [
       "<Figure size 640x480 with 1 Axes>"
      ]
     },
     "metadata": {},
     "output_type": "display_data"
    }
   ],
   "source": [
    "pie_target.plot(kind=\"pie\", legend=True, autopct='%1.2f%%')\n",
    "plt.show()"
   ]
  },
  {
   "cell_type": "markdown",
   "metadata": {},
   "source": [
    "Données de la targt plutôt équilibrée"
   ]
  },
  {
   "cell_type": "code",
   "execution_count": 59,
   "metadata": {
    "execution": {
     "iopub.execute_input": "2024-08-12T10:36:47.393477Z",
     "iopub.status.busy": "2024-08-12T10:36:47.392551Z",
     "iopub.status.idle": "2024-08-12T10:36:52.420626Z",
     "shell.execute_reply": "2024-08-12T10:36:52.419406Z",
     "shell.execute_reply.started": "2024-08-12T10:36:47.393417Z"
    }
   },
   "outputs": [
    {
     "data": {
      "text/plain": [
       "id                       0.000000\n",
       "class                    0.000000\n",
       "cap-diameter             0.000128\n",
       "cap-shape                0.001283\n",
       "cap-surface             21.528227\n",
       "cap-color                0.000385\n",
       "does-bruise-or-bleed     0.000257\n",
       "gill-attachment         16.809280\n",
       "gill-spacing            40.373988\n",
       "gill-color               0.001829\n",
       "stem-height              0.000000\n",
       "stem-width               0.000000\n",
       "stem-root               88.452732\n",
       "stem-surface            63.551362\n",
       "stem-color               0.001219\n",
       "veil-type               94.884350\n",
       "veil-color              87.936970\n",
       "has-ring                 0.000770\n",
       "ring-type                4.134818\n",
       "spore-print-color       91.425482\n",
       "habitat                  0.001444\n",
       "season                   0.000000\n",
       "dtype: float64"
      ]
     },
     "execution_count": 59,
     "metadata": {},
     "output_type": "execute_result"
    }
   ],
   "source": [
    "df.isnull().mean()*100"
   ]
  },
  {
   "cell_type": "markdown",
   "metadata": {},
   "source": [
    "Présence de données manquantes "
   ]
  },
  {
   "cell_type": "markdown",
   "metadata": {},
   "source": [
    "# 2. Imputation des données :\n"
   ]
  },
  {
   "cell_type": "code",
   "execution_count": 60,
   "metadata": {
    "execution": {
     "iopub.execute_input": "2024-08-12T10:36:52.422305Z",
     "iopub.status.busy": "2024-08-12T10:36:52.421984Z",
     "iopub.status.idle": "2024-08-12T10:37:02.389220Z",
     "shell.execute_reply": "2024-08-12T10:37:02.388084Z",
     "shell.execute_reply.started": "2024-08-12T10:36:52.422278Z"
    }
   },
   "outputs": [
    {
     "data": {
      "text/plain": [
       "veil-type               0.948843\n",
       "spore-print-color       0.914255\n",
       "stem-root               0.884527\n",
       "veil-color              0.879370\n",
       "stem-surface            0.635514\n",
       "gill-spacing            0.403740\n",
       "cap-surface             0.215282\n",
       "gill-attachment         0.168093\n",
       "ring-type               0.041348\n",
       "gill-color              0.000018\n",
       "habitat                 0.000014\n",
       "cap-shape               0.000013\n",
       "stem-color              0.000012\n",
       "has-ring                0.000008\n",
       "cap-color               0.000004\n",
       "does-bruise-or-bleed    0.000003\n",
       "cap-diameter            0.000001\n",
       "dtype: float64"
      ]
     },
     "execution_count": 60,
     "metadata": {},
     "output_type": "execute_result"
    }
   ],
   "source": [
    "df.isnull().mean()[df.isnull().mean()>0].sort_values(ascending=False)"
   ]
  },
  {
   "cell_type": "markdown",
   "metadata": {},
   "source": [
    "Les colonnes > 50% de NaN on peut les supprimer car il y a trop de données manquantes"
   ]
  },
  {
   "cell_type": "code",
   "execution_count": 61,
   "metadata": {
    "execution": {
     "iopub.execute_input": "2024-08-12T10:37:02.395296Z",
     "iopub.status.busy": "2024-08-12T10:37:02.394894Z",
     "iopub.status.idle": "2024-08-12T10:37:12.358559Z",
     "shell.execute_reply": "2024-08-12T10:37:12.357439Z",
     "shell.execute_reply.started": "2024-08-12T10:37:02.395265Z"
    }
   },
   "outputs": [],
   "source": [
    "high_nan = df.isnull().mean()[df.isnull().mean()>.5].sort_values(ascending=False).index.tolist()"
   ]
  },
  {
   "cell_type": "code",
   "execution_count": 62,
   "metadata": {
    "execution": {
     "iopub.execute_input": "2024-08-12T10:37:12.360237Z",
     "iopub.status.busy": "2024-08-12T10:37:12.359915Z",
     "iopub.status.idle": "2024-08-12T10:37:12.854258Z",
     "shell.execute_reply": "2024-08-12T10:37:12.853130Z",
     "shell.execute_reply.started": "2024-08-12T10:37:12.360210Z"
    }
   },
   "outputs": [],
   "source": [
    "df.drop(high_nan, axis = 1, inplace=True)"
   ]
  },
  {
   "cell_type": "markdown",
   "metadata": {},
   "source": [
    "Les NaN restant, on va appliquer de l'imputation des données : "
   ]
  },
  {
   "cell_type": "code",
   "execution_count": 63,
   "metadata": {
    "execution": {
     "iopub.execute_input": "2024-08-12T10:37:12.855975Z",
     "iopub.status.busy": "2024-08-12T10:37:12.855647Z",
     "iopub.status.idle": "2024-08-12T10:37:21.237314Z",
     "shell.execute_reply": "2024-08-12T10:37:21.236183Z",
     "shell.execute_reply.started": "2024-08-12T10:37:12.855941Z"
    }
   },
   "outputs": [
    {
     "data": {
      "text/plain": [
       "gill-spacing            0.403740\n",
       "cap-surface             0.215282\n",
       "gill-attachment         0.168093\n",
       "ring-type               0.041348\n",
       "gill-color              0.000018\n",
       "habitat                 0.000014\n",
       "cap-shape               0.000013\n",
       "stem-color              0.000012\n",
       "has-ring                0.000008\n",
       "cap-color               0.000004\n",
       "does-bruise-or-bleed    0.000003\n",
       "cap-diameter            0.000001\n",
       "dtype: float64"
      ]
     },
     "execution_count": 63,
     "metadata": {},
     "output_type": "execute_result"
    }
   ],
   "source": [
    "df.isnull().mean()[df.isnull().mean()>0].sort_values(ascending=False)"
   ]
  },
  {
   "cell_type": "code",
   "execution_count": 64,
   "metadata": {
    "execution": {
     "iopub.execute_input": "2024-08-12T10:37:21.239266Z",
     "iopub.status.busy": "2024-08-12T10:37:21.238941Z",
     "iopub.status.idle": "2024-08-12T10:37:29.632943Z",
     "shell.execute_reply": "2024-08-12T10:37:29.631627Z",
     "shell.execute_reply.started": "2024-08-12T10:37:21.239239Z"
    }
   },
   "outputs": [],
   "source": [
    "mid_nan = df.isnull().mean()[df.isnull().mean()>0].index.tolist()"
   ]
  },
  {
   "cell_type": "code",
   "execution_count": 65,
   "metadata": {
    "execution": {
     "iopub.execute_input": "2024-08-12T10:37:29.635334Z",
     "iopub.status.busy": "2024-08-12T10:37:29.634802Z",
     "iopub.status.idle": "2024-08-12T10:37:31.741333Z",
     "shell.execute_reply": "2024-08-12T10:37:31.740042Z",
     "shell.execute_reply.started": "2024-08-12T10:37:29.635287Z"
    }
   },
   "outputs": [
    {
     "data": {
      "text/plain": [
       "cap-diameter            3913\n",
       "cap-shape                 74\n",
       "cap-surface               83\n",
       "cap-color                 78\n",
       "does-bruise-or-bleed      26\n",
       "gill-attachment           78\n",
       "gill-spacing              48\n",
       "gill-color                63\n",
       "stem-color                59\n",
       "has-ring                  23\n",
       "ring-type                 40\n",
       "habitat                   52\n",
       "dtype: int64"
      ]
     },
     "execution_count": 65,
     "metadata": {},
     "output_type": "execute_result"
    }
   ],
   "source": [
    "df[mid_nan].nunique()"
   ]
  },
  {
   "cell_type": "code",
   "execution_count": null,
   "metadata": {
    "execution": {
     "iopub.execute_input": "2024-08-12T10:37:31.743148Z",
     "iopub.status.busy": "2024-08-12T10:37:31.742815Z",
     "iopub.status.idle": "2024-08-12T10:37:36.484647Z",
     "shell.execute_reply": "2024-08-12T10:37:36.483387Z",
     "shell.execute_reply.started": "2024-08-12T10:37:31.743119Z"
    }
   },
   "outputs": [],
   "source": [
    "pd.set_option(\"display.max_rows\",None)\n",
    "for i in mid_nan:\n",
    "    print(colored(i, \"red\",attrs=[\"bold\"]))\n",
    "    print(df[i].value_counts(normalize=True)*100)"
   ]
  },
  {
   "cell_type": "code",
   "execution_count": null,
   "metadata": {
    "execution": {
     "iopub.execute_input": "2024-08-12T10:37:36.486749Z",
     "iopub.status.busy": "2024-08-12T10:37:36.486286Z",
     "iopub.status.idle": "2024-08-12T10:37:36.492539Z",
     "shell.execute_reply": "2024-08-12T10:37:36.491383Z",
     "shell.execute_reply.started": "2024-08-12T10:37:36.486709Z"
    }
   },
   "outputs": [],
   "source": [
    "pd.set_option(\"display.max_rows\",10)"
   ]
  },
  {
   "cell_type": "markdown",
   "metadata": {},
   "source": [
    "- On constate qu'il y a enormement de valeurs différentes, certaines modalité n'ont pas vraiment de sens ?\n",
    "- Certaines valeurs sont  numériques, d'autres textuelles\n",
    "- beaucoup de modalité sous représentée (<1%) \n",
    "\n"
   ]
  },
  {
   "cell_type": "code",
   "execution_count": null,
   "metadata": {
    "execution": {
     "iopub.execute_input": "2024-08-12T10:37:36.494634Z",
     "iopub.status.busy": "2024-08-12T10:37:36.494156Z",
     "iopub.status.idle": "2024-08-12T10:37:43.247895Z",
     "shell.execute_reply": "2024-08-12T10:37:43.246672Z",
     "shell.execute_reply.started": "2024-08-12T10:37:36.494545Z"
    }
   },
   "outputs": [],
   "source": [
    "plt.figure(figsize=(16,8))\n",
    "for i,col in enumerate(mid_nan[1:],1):\n",
    "    plt.subplot(4,3,i)\n",
    "    sns.countplot(y = col, data = df.sample(100000, random_state = 42))\n",
    "plt.show()"
   ]
  },
  {
   "cell_type": "code",
   "execution_count": 33,
   "metadata": {
    "execution": {
     "iopub.execute_input": "2024-08-12T10:37:43.250658Z",
     "iopub.status.busy": "2024-08-12T10:37:43.250205Z",
     "iopub.status.idle": "2024-08-12T10:37:43.894116Z",
     "shell.execute_reply": "2024-08-12T10:37:43.892786Z",
     "shell.execute_reply.started": "2024-08-12T10:37:43.250619Z"
    }
   },
   "outputs": [
    {
     "name": "stdout",
     "output_type": "stream",
     "text": [
      "Moyenne : 6.309848357732786\n",
      "Mediane  : 5.75\n",
      "Mode  : 1.49\n"
     ]
    },
    {
     "data": {
      "application/javascript": [
       "\n",
       "        if (window._pyforest_update_imports_cell) { window._pyforest_update_imports_cell('import matplotlib.pyplot as plt\\nimport pickle\\nimport pandas as pd\\nfrom sklearn.impute import SimpleImputer\\nimport seaborn as sns'); }\n",
       "    "
      ],
      "text/plain": [
       "<IPython.core.display.Javascript object>"
      ]
     },
     "metadata": {},
     "output_type": "display_data"
    },
    {
     "data": {
      "application/javascript": [
       "\n",
       "        if (window._pyforest_update_imports_cell) { window._pyforest_update_imports_cell('import matplotlib.pyplot as plt\\nimport pickle\\nimport pandas as pd\\nfrom sklearn.impute import SimpleImputer\\nimport seaborn as sns'); }\n",
       "    "
      ],
      "text/plain": [
       "<IPython.core.display.Javascript object>"
      ]
     },
     "metadata": {},
     "output_type": "display_data"
    },
    {
     "data": {
      "image/png": "[encoded data removed]",
      "text/plain": [
       "<Figure size 640x480 with 1 Axes>"
      ]
     },
     "metadata": {},
     "output_type": "display_data"
    }
   ],
   "source": [
    "print(\"Moyenne :\", df[\"cap-diameter\"].mean())\n",
    "print(\"Mediane  :\", df[\"cap-diameter\"].median())\n",
    "print(\"Mode  :\", df[\"cap-diameter\"].mode()[0])\n",
    "sns.boxplot(y = df[\"cap-diameter\"])\n",
    "plt.show()\n"
   ]
  },
  {
   "cell_type": "markdown",
   "metadata": {},
   "source": [
    "- beaucoup de modalité sont clairement sous représenté\n",
    "- beaucoup d'outliers pour cap-diameter, on va imputer par **la médiane**"
   ]
  },
  {
   "cell_type": "code",
   "execution_count": 66,
   "metadata": {
    "execution": {
     "iopub.execute_input": "2024-08-12T10:37:43.896211Z",
     "iopub.status.busy": "2024-08-12T10:37:43.895777Z",
     "iopub.status.idle": "2024-08-12T10:37:55.876264Z",
     "shell.execute_reply": "2024-08-12T10:37:55.874974Z",
     "shell.execute_reply.started": "2024-08-12T10:37:43.896172Z"
    }
   },
   "outputs": [
    {
     "data": {
      "text/plain": [
       "cap-shape               0.0\n",
       "cap-surface             0.0\n",
       "cap-color               0.0\n",
       "does-bruise-or-bleed    0.0\n",
       "gill-attachment         0.0\n",
       "gill-spacing            0.0\n",
       "gill-color              0.0\n",
       "stem-color              0.0\n",
       "has-ring                0.0\n",
       "ring-type               0.0\n",
       "habitat                 0.0\n",
       "dtype: float64"
      ]
     },
     "execution_count": 66,
     "metadata": {},
     "output_type": "execute_result"
    }
   ],
   "source": [
    "imputer_mode = SimpleImputer(strategy=\"most_frequent\")\n",
    "mode_col =  [i for i in mid_nan if i!=\"cap-diameter\"]\n",
    "df[mode_col] = imputer_mode.fit_transform(df[mode_col])\n",
    "df[mode_col].isnull().mean()"
   ]
  },
  {
   "cell_type": "code",
   "execution_count": 67,
   "metadata": {
    "execution": {
     "iopub.execute_input": "2024-08-12T10:37:55.877954Z",
     "iopub.status.busy": "2024-08-12T10:37:55.877627Z",
     "iopub.status.idle": "2024-08-12T10:37:56.463763Z",
     "shell.execute_reply": "2024-08-12T10:37:56.462528Z",
     "shell.execute_reply.started": "2024-08-12T10:37:55.877927Z"
    }
   },
   "outputs": [],
   "source": [
    "#pour cap-diameter\n",
    "imputer_mediane = SimpleImputer(strategy=\"median\")\n",
    "df[\"cap-diameter\"] = imputer_mediane.fit_transform(df[[\"cap-diameter\"]])"
   ]
  },
  {
   "cell_type": "markdown",
   "metadata": {},
   "source": [
    "## Nettoyage des modalités \n",
    "- Nous allons, pour chaque colonnes, **regrouper** toutes les modalités mineur en un seul terme afin de faciliter l'analyse des données"
   ]
  },
  {
   "cell_type": "code",
   "execution_count": 68,
   "metadata": {
    "execution": {
     "iopub.execute_input": "2024-08-12T10:37:56.465689Z",
     "iopub.status.busy": "2024-08-12T10:37:56.465311Z",
     "iopub.status.idle": "2024-08-12T10:37:58.415491Z",
     "shell.execute_reply": "2024-08-12T10:37:58.414319Z",
     "shell.execute_reply.started": "2024-08-12T10:37:56.465659Z"
    }
   },
   "outputs": [],
   "source": [
    "var_qual = df.select_dtypes(include=\"object\").columns.tolist()"
   ]
  },
  {
   "cell_type": "code",
   "execution_count": null,
   "metadata": {
    "execution": {
     "iopub.execute_input": "2024-08-12T10:37:58.417227Z",
     "iopub.status.busy": "2024-08-12T10:37:58.416842Z",
     "iopub.status.idle": "2024-08-12T10:38:04.942819Z",
     "shell.execute_reply": "2024-08-12T10:38:04.941570Z",
     "shell.execute_reply.started": "2024-08-12T10:37:58.417195Z"
    }
   },
   "outputs": [],
   "source": [
    "for i in var_qual:\n",
    "    print(colored(i, \"blue\",attrs=[\"bold\"]))\n",
    "    print(df[i].unique())\n",
    "    print(colored(\"nunique :\", \"green\", attrs=[\"bold\"]),colored(df[i].nunique(), \"green\", attrs=[\"bold\"]))\n",
    "    print()"
   ]
  },
  {
   "cell_type": "markdown",
   "metadata": {},
   "source": [
    "- Au vu des modalités pour chaque variable catégorique ici, **seule 2 variables présentent très peu de modalités : class (= la target, 2)  et season (4)**\n",
    "- Donc pour toutes les variables > 4 modalités, nous allons **réduire le nombre de modalité**"
   ]
  },
  {
   "cell_type": "code",
   "execution_count": 69,
   "metadata": {
    "execution": {
     "iopub.execute_input": "2024-08-12T10:38:04.944812Z",
     "iopub.status.busy": "2024-08-12T10:38:04.944365Z",
     "iopub.status.idle": "2024-08-12T10:38:08.215364Z",
     "shell.execute_reply": "2024-08-12T10:38:08.214246Z",
     "shell.execute_reply.started": "2024-08-12T10:38:04.944774Z"
    }
   },
   "outputs": [
    {
     "data": {
      "text/plain": [
       "['cap-shape',\n",
       " 'cap-surface',\n",
       " 'cap-color',\n",
       " 'does-bruise-or-bleed',\n",
       " 'gill-attachment',\n",
       " 'gill-spacing',\n",
       " 'gill-color',\n",
       " 'stem-color',\n",
       " 'has-ring',\n",
       " 'ring-type',\n",
       " 'habitat']"
      ]
     },
     "execution_count": 69,
     "metadata": {},
     "output_type": "execute_result"
    }
   ],
   "source": [
    "col_reduction_mode = [i for i in  df if df[i].dtype == \"object\"  and df[i].nunique()>4] #récupération des colonnes ayant trop de modalitées\n",
    "col_reduction_mode"
   ]
  },
  {
   "cell_type": "code",
   "execution_count": 70,
   "metadata": {
    "execution": {
     "iopub.execute_input": "2024-08-12T10:38:08.217828Z",
     "iopub.status.busy": "2024-08-12T10:38:08.217427Z",
     "iopub.status.idle": "2024-08-12T10:38:17.596425Z",
     "shell.execute_reply": "2024-08-12T10:38:17.595101Z",
     "shell.execute_reply.started": "2024-08-12T10:38:08.217777Z"
    }
   },
   "outputs": [],
   "source": [
    "#Création d'un dictionnaire qui contiendra le nom des colonne et les modalités les moins présentent du jeu de données (<10%)\n",
    "dict_extra_modality = {}\n",
    "for i in col_reduction_mode:\n",
    "    dict_extra_modality[i] = (df[i].value_counts(normalize=True))[df[i].value_counts(normalize=True)*100<10].index.tolist()"
   ]
  },
  {
   "cell_type": "code",
   "execution_count": null,
   "metadata": {
    "execution": {
     "iopub.execute_input": "2024-08-12T10:38:17.598386Z",
     "iopub.status.busy": "2024-08-12T10:38:17.597940Z",
     "iopub.status.idle": "2024-08-12T10:38:17.604913Z",
     "shell.execute_reply": "2024-08-12T10:38:17.603775Z",
     "shell.execute_reply.started": "2024-08-12T10:38:17.598347Z"
    }
   },
   "outputs": [],
   "source": [
    "#serealisation du dictionnaire : \n",
    "with open(\"dict_extra_modality.pkl\", \"wb\") as f:\n",
    "    pickle.dump(dict_extra_modality,f)"
   ]
  },
  {
   "cell_type": "code",
   "execution_count": null,
   "metadata": {
    "execution": {
     "iopub.execute_input": "2024-08-12T10:38:17.607061Z",
     "iopub.status.busy": "2024-08-12T10:38:17.606653Z",
     "iopub.status.idle": "2024-08-12T10:38:17.623672Z",
     "shell.execute_reply": "2024-08-12T10:38:17.622503Z",
     "shell.execute_reply.started": "2024-08-12T10:38:17.607030Z"
    }
   },
   "outputs": [],
   "source": [
    "[(i,dict_extra_modality[i][:5]) for i in dict_extra_modality]"
   ]
  },
  {
   "cell_type": "code",
   "execution_count": 72,
   "metadata": {
    "execution": {
     "iopub.execute_input": "2024-08-12T10:38:17.625747Z",
     "iopub.status.busy": "2024-08-12T10:38:17.625297Z",
     "iopub.status.idle": "2024-08-12T10:39:09.508908Z",
     "shell.execute_reply": "2024-08-12T10:39:09.507538Z",
     "shell.execute_reply.started": "2024-08-12T10:38:17.625712Z"
    }
   },
   "outputs": [
    {
     "name": "stdout",
     "output_type": "stream",
     "text": [
      "cap-shape\n",
      "x        46.072869\n",
      "f        21.695538\n",
      "s        11.714868\n",
      "other    10.293701\n",
      "b        10.223023\n",
      "Name: proportion, dtype: float64\n",
      "cap-shape\n",
      "x        46.072869\n",
      "f        21.695538\n",
      "s        11.714868\n",
      "other    10.293701\n",
      "b        10.223023\n",
      "Name: proportion, dtype: float64\n",
      "\n",
      "cap-surface\n",
      "t        36.311196\n",
      "s        12.350876\n",
      "y        10.517542\n",
      "h         9.126244\n",
      "g         8.461137\n",
      "           ...    \n",
      "1.42      0.000032\n",
      "has h     0.000032\n",
      "10.83     0.000032\n",
      "8.96      0.000032\n",
      "0.87      0.000032\n",
      "Name: proportion, Length: 83, dtype: float64\n",
      "cap-surface\n",
      "other    40.820387\n",
      "t        36.311196\n",
      "s        12.350876\n",
      "y        10.517542\n",
      "Name: proportion, dtype: float64\n",
      "\n",
      "cap-color\n",
      "n             43.618158\n",
      "y             12.404037\n",
      "w             12.173522\n",
      "g              6.763834\n",
      "e              6.329595\n",
      "                ...    \n",
      "3.95           0.000032\n",
      "6.59           0.000032\n",
      "5.25           0.000032\n",
      "veil-color     0.000032\n",
      "9.02           0.000032\n",
      "Name: proportion, Length: 78, dtype: float64\n",
      "cap-color\n",
      "n        43.618158\n",
      "other    31.804283\n",
      "y        12.404037\n",
      "w        12.173522\n",
      "Name: proportion, dtype: float64\n",
      "\n",
      "does-bruise-or-bleed\n",
      "f           82.444541\n",
      "t           17.551962\n",
      "w            0.000449\n",
      "c            0.000353\n",
      "h            0.000289\n",
      "a            0.000225\n",
      "b            0.000225\n",
      "x            0.000225\n",
      "y            0.000225\n",
      "k            0.000192\n",
      "s            0.000192\n",
      "e            0.000128\n",
      "l            0.000128\n",
      "p            0.000128\n",
      "d            0.000128\n",
      "g            0.000096\n",
      "z            0.000096\n",
      "o            0.000096\n",
      "i            0.000064\n",
      "n            0.000064\n",
      "r            0.000032\n",
      "has-ring     0.000032\n",
      "3.43         0.000032\n",
      "4.42         0.000032\n",
      "2.9          0.000032\n",
      "u            0.000032\n",
      "Name: proportion, dtype: float64\n",
      "does-bruise-or-bleed\n",
      "f        82.444541\n",
      "t        17.551962\n",
      "other     0.003497\n",
      "Name: proportion, dtype: float64\n",
      "\n",
      "gill-attachment\n",
      "a        37.535792\n",
      "d        18.904280\n",
      "x        11.577939\n",
      "e         9.684419\n",
      "s         9.478480\n",
      "           ...    \n",
      "1         0.000032\n",
      "is a      0.000032\n",
      "3.71      0.000032\n",
      "50.44     0.000032\n",
      "13.94     0.000032\n",
      "Name: proportion, Length: 78, dtype: float64\n",
      "gill-attachment\n",
      "a        37.535792\n",
      "other    31.981989\n",
      "d        18.904280\n",
      "x        11.577939\n",
      "Name: proportion, dtype: float64\n",
      "\n",
      "gill-spacing\n",
      "c              83.077789\n",
      "d              13.087558\n",
      "f               3.830032\n",
      "e               0.000770\n",
      "a               0.000545\n",
      "s               0.000513\n",
      "b               0.000385\n",
      "x               0.000257\n",
      "t               0.000257\n",
      "p               0.000225\n",
      "k               0.000128\n",
      "g               0.000128\n",
      "l               0.000096\n",
      "h               0.000096\n",
      "r               0.000064\n",
      "6.67            0.000064\n",
      "y               0.000064\n",
      "0               0.000064\n",
      "3.81            0.000032\n",
      "1.6             0.000032\n",
      "n               0.000032\n",
      "1.88            0.000032\n",
      "does f          0.000032\n",
      "4.09            0.000032\n",
      "1.36            0.000032\n",
      "3.24            0.000032\n",
      "5.55            0.000032\n",
      "5.42            0.000032\n",
      "5.7             0.000032\n",
      "3.62            0.000032\n",
      "6.4             0.000032\n",
      "24.38           0.000032\n",
      "12.27           0.000032\n",
      "1               0.000032\n",
      "cap-surface     0.000032\n",
      "w               0.000032\n",
      "3.57            0.000032\n",
      "i               0.000032\n",
      "0.73            0.000032\n",
      "4.04            0.000032\n",
      "5.22            0.000032\n",
      "3.92            0.000032\n",
      "9.01            0.000032\n",
      "class           0.000032\n",
      "4.8             0.000032\n",
      "2.69            0.000032\n",
      "3.61            0.000032\n",
      "55.13           0.000032\n",
      "Name: proportion, dtype: float64\n",
      "gill-spacing\n",
      "c        83.077789\n",
      "d        13.087558\n",
      "other     3.834652\n",
      "Name: proportion, dtype: float64\n",
      "\n",
      "gill-color\n",
      "w       29.888080\n",
      "n       17.433288\n",
      "y       15.061671\n",
      "p       11.024449\n",
      "g        6.806793\n",
      "          ...    \n",
      "9.46     0.000032\n",
      "5.01     0.000032\n",
      "3.4      0.000032\n",
      "17       0.000032\n",
      "8.37     0.000032\n",
      "Name: proportion, Length: 63, dtype: float64\n",
      "gill-color\n",
      "w        29.888080\n",
      "other    26.592513\n",
      "n        17.433288\n",
      "y        15.061671\n",
      "p        11.024449\n",
      "Name: proportion, dtype: float64\n",
      "\n",
      "stem-color\n",
      "w                    38.392561\n",
      "n                    32.193831\n",
      "y                    11.997998\n",
      "g                     4.235525\n",
      "o                     3.578536\n",
      "e                     3.316485\n",
      "u                     2.150086\n",
      "p                     1.754603\n",
      "k                     1.080417\n",
      "r                     0.716375\n",
      "l                     0.320634\n",
      "b                     0.236289\n",
      "f                     0.018383\n",
      "s                     0.001636\n",
      "t                     0.001283\n",
      "a                     0.001155\n",
      "x                     0.000642\n",
      "i                     0.000610\n",
      "d                     0.000513\n",
      "h                     0.000385\n",
      "m                     0.000353\n",
      "c                     0.000225\n",
      "z                     0.000192\n",
      "ring-type             0.000096\n",
      "class                 0.000064\n",
      "spore-print-color     0.000064\n",
      "is n                  0.000032\n",
      "6.31                  0.000032\n",
      "12.92                 0.000032\n",
      "3.98                  0.000032\n",
      "20.07                 0.000032\n",
      "7.7                   0.000032\n",
      "22.6                  0.000032\n",
      "6.09                  0.000032\n",
      "17.45                 0.000032\n",
      "3.56                  0.000032\n",
      "3.37                  0.000032\n",
      "4.62                  0.000032\n",
      "2.54                  0.000032\n",
      "39.51                 0.000032\n",
      "18.06                 0.000032\n",
      "3.53                  0.000032\n",
      "4.49                  0.000032\n",
      "1.41                  0.000032\n",
      "e n                   0.000032\n",
      "8.49                  0.000032\n",
      "2.75                  0.000032\n",
      "7.84                  0.000032\n",
      "4.75                  0.000032\n",
      "26.4                  0.000032\n",
      "is w                  0.000032\n",
      "8.32                  0.000032\n",
      "23.59                 0.000032\n",
      "2.78                  0.000032\n",
      "3.13                  0.000032\n",
      "33.52                 0.000032\n",
      "7.33                  0.000032\n",
      "1.75                  0.000032\n",
      "4.33                  0.000032\n",
      "Name: proportion, dtype: float64\n",
      "stem-color\n",
      "w        38.392561\n",
      "n        32.193831\n",
      "other    17.415610\n",
      "y        11.997998\n",
      "Name: proportion, dtype: float64\n",
      "\n",
      "has-ring\n",
      "f             75.998903\n",
      "t             23.997279\n",
      "r              0.000513\n",
      "h              0.000417\n",
      "c              0.000353\n",
      "l              0.000353\n",
      "s              0.000353\n",
      "p              0.000353\n",
      "g              0.000257\n",
      "z              0.000192\n",
      "e              0.000192\n",
      "x              0.000160\n",
      "m              0.000128\n",
      "y              0.000096\n",
      "d              0.000096\n",
      "k              0.000064\n",
      "o              0.000064\n",
      "n              0.000064\n",
      "f has-ring     0.000032\n",
      "i              0.000032\n",
      "10.3           0.000032\n",
      "w              0.000032\n",
      "a              0.000032\n",
      "Name: proportion, dtype: float64\n",
      "has-ring\n",
      "f        75.998903\n",
      "t        23.997279\n",
      "other     0.003818\n",
      "Name: proportion, dtype: float64\n",
      "\n",
      "ring-type\n",
      "f                       83.609111\n",
      "e                        3.850116\n",
      "z                        3.650369\n",
      "l                        2.356249\n",
      "r                        2.178704\n",
      "p                        2.171293\n",
      "g                        2.043251\n",
      "m                        0.128074\n",
      "t                        0.003144\n",
      "d                        0.001187\n",
      "n                        0.001091\n",
      "x                        0.001027\n",
      "b                        0.000930\n",
      "y                        0.000802\n",
      "s                        0.000577\n",
      "k                        0.000577\n",
      "a                        0.000513\n",
      "h                        0.000481\n",
      "w                        0.000449\n",
      "u                        0.000417\n",
      "c                        0.000353\n",
      "o                        0.000289\n",
      "ring-type                0.000225\n",
      "i                        0.000128\n",
      "does f                   0.000096\n",
      "season                   0.000096\n",
      "15                       0.000032\n",
      "14                       0.000032\n",
      "2.87                     0.000032\n",
      "sp                       0.000032\n",
      "class                    0.000032\n",
      "spore-print-color        0.000032\n",
      "2                        0.000032\n",
      "11                       0.000032\n",
      "1                        0.000032\n",
      "23.6                     0.000032\n",
      "4                        0.000032\n",
      "does-bruise-or-bleed     0.000032\n",
      "3.12                     0.000032\n",
      "8.25                     0.000032\n",
      "Name: proportion, dtype: float64\n",
      "ring-type\n",
      "f        83.609111\n",
      "other    16.390889\n",
      "Name: proportion, dtype: float64\n",
      "\n",
      "habitat\n",
      "d                       69.863857\n",
      "g                       14.594675\n",
      "l                        5.514759\n",
      "m                        4.843493\n",
      "h                        3.854319\n",
      "w                        0.594492\n",
      "p                        0.551181\n",
      "u                        0.168883\n",
      "e                        0.001765\n",
      "s                        0.001668\n",
      "n                        0.001315\n",
      "t                        0.001283\n",
      "r                        0.001219\n",
      "y                        0.001091\n",
      "a                        0.001091\n",
      "k                        0.000995\n",
      "c                        0.000834\n",
      "b                        0.000577\n",
      "o                        0.000385\n",
      "f                        0.000353\n",
      "i                        0.000225\n",
      "x                        0.000160\n",
      "z                        0.000160\n",
      "habitat                  0.000160\n",
      "class                    0.000096\n",
      "spore-print-color        0.000096\n",
      "ring-type                0.000064\n",
      "18.35                    0.000032\n",
      "3.68                     0.000032\n",
      "2.44                     0.000032\n",
      "1.66                     0.000032\n",
      "17.38                    0.000032\n",
      "veil-type                0.000032\n",
      "6.75                     0.000032\n",
      "cap-diameter             0.000032\n",
      "7.37                     0.000032\n",
      "16.46                    0.000032\n",
      "3.11                     0.000032\n",
      "6.63                     0.000032\n",
      "is w                     0.000032\n",
      "5.62                     0.000032\n",
      "7.31                     0.000032\n",
      "10.07                    0.000032\n",
      "5.56                     0.000032\n",
      "is h                     0.000032\n",
      "4                        0.000032\n",
      "2.94                     0.000032\n",
      "does-bruise-or-bleed     0.000032\n",
      "9.28                     0.000032\n",
      "17.1                     0.000032\n",
      "8.09                     0.000032\n",
      "2.25                     0.000032\n",
      "Name: proportion, dtype: float64\n"
     ]
    },
    {
     "name": "stdout",
     "output_type": "stream",
     "text": [
      "habitat\n",
      "d        69.863857\n",
      "other    15.541468\n",
      "g        14.594675\n",
      "Name: proportion, dtype: float64\n",
      "\n"
     ]
    }
   ],
   "source": [
    "#Réduction du nombre de modalité :\n",
    "\n",
    "for i in dict_extra_modality:\n",
    "    print(df[i].value_counts(normalize=True)*100) # affichage avant réduction modalité\n",
    "    df[i] = df[i].apply(lambda x:x if x not in dict_extra_modality[i] else \"other\")\n",
    "    print(df[i].value_counts(normalize=True)*100) #après réduction modalité\n",
    "    print()"
   ]
  },
  {
   "cell_type": "markdown",
   "metadata": {},
   "source": [
    "### datavisualisation\n",
    "* univariée\n",
    "- bivariée\n",
    "### test statistique"
   ]
  },
  {
   "cell_type": "markdown",
   "metadata": {},
   "source": [
    "# 3. Visualisation des données \n",
    "## Analyse univariée "
   ]
  },
  {
   "cell_type": "code",
   "execution_count": 73,
   "metadata": {
    "execution": {
     "iopub.execute_input": "2024-08-12T10:39:09.518609Z",
     "iopub.status.busy": "2024-08-12T10:39:09.518166Z",
     "iopub.status.idle": "2024-08-12T10:39:09.621837Z",
     "shell.execute_reply": "2024-08-12T10:39:09.620064Z",
     "shell.execute_reply.started": "2024-08-12T10:39:09.518559Z"
    }
   },
   "outputs": [],
   "source": [
    "var_cont = [i for i in df.select_dtypes(include=\"float\")]"
   ]
  },
  {
   "cell_type": "markdown",
   "metadata": {},
   "source": [
    "### Variable continues :\n",
    "#### Visualisation + test shapiro (normalité)"
   ]
  },
  {
   "cell_type": "code",
   "execution_count": null,
   "metadata": {
    "execution": {
     "iopub.execute_input": "2024-08-12T10:39:09.624118Z",
     "iopub.status.busy": "2024-08-12T10:39:09.623623Z",
     "iopub.status.idle": "2024-08-12T10:39:09.634425Z",
     "shell.execute_reply": "2024-08-12T10:39:09.632830Z",
     "shell.execute_reply.started": "2024-08-12T10:39:09.624067Z"
    }
   },
   "outputs": [],
   "source": [
    "def visualisation_plot(columns, nrow,ncol):\n",
    "    plt.figure(figsize=(22,5))\n",
    "    for i, column in enumerate(list(df[columns].columns), 1):\n",
    "        plt.subplot(nrow,ncol,i)\n",
    "        ax=sns.histplot(x=column,data=df,kde=True,color=\"orange\")\n",
    "        ax.axvline(df[column].mean(), c = \"red\", label = \"Moyenne\")\n",
    "        ax.axvline(df[column].median(), c = \"yellow\", label = \"Mediane\")\n",
    "        ax.legend()\n",
    "\n",
    "    plt.show()"
   ]
  },
  {
   "cell_type": "code",
   "execution_count": null,
   "metadata": {
    "execution": {
     "iopub.execute_input": "2024-08-12T10:39:09.636789Z",
     "iopub.status.busy": "2024-08-12T10:39:09.636094Z",
     "iopub.status.idle": "2024-08-12T10:39:09.647534Z",
     "shell.execute_reply": "2024-08-12T10:39:09.646220Z",
     "shell.execute_reply.started": "2024-08-12T10:39:09.636735Z"
    }
   },
   "outputs": [],
   "source": [
    "def shapiro_test(list_col):\n",
    "    \"\"\"\n",
    "    Cette fonction teste si list_col est une liste, si ce n'est pas le cas,\n",
    "    elle convertie le texte en une liste avant de faire un test shapiro pour vérifier\n",
    "    si la feature suit une loi normale ou non\n",
    "    \"\"\"\n",
    "    if type(list_col) != list:\n",
    "        list_col = [list_col]\n",
    "\n",
    "    accepted,rejected = [], []\n",
    "\n",
    "    for col in df[list_col]:\n",
    "        stat, p_value = shapiro(df[col])  \n",
    "        alpha = 0.05\n",
    "        if p_value > alpha: \n",
    "            result = colored('Accepter', 'green')  \n",
    "            accepted.append(col)\n",
    "            print(f'{col:-<50}\\t Hypothèse: {result}')\n",
    "        else:\n",
    "            result = colored('Rejet','red')        \n",
    "            rejected.append(col)\n",
    "            print(f'{col:-<50}\\t Hypothèse: {result}')\n",
    "    return accepted,rejected"
   ]
  },
  {
   "cell_type": "code",
   "execution_count": null,
   "metadata": {
    "execution": {
     "iopub.execute_input": "2024-08-12T10:39:09.650241Z",
     "iopub.status.busy": "2024-08-12T10:39:09.649793Z",
     "iopub.status.idle": "2024-08-12T10:39:59.551023Z",
     "shell.execute_reply": "2024-08-12T10:39:59.549643Z",
     "shell.execute_reply.started": "2024-08-12T10:39:09.650205Z"
    }
   },
   "outputs": [],
   "source": [
    "visualisation_plot(var_cont,1,3)"
   ]
  },
  {
   "cell_type": "code",
   "execution_count": null,
   "metadata": {
    "execution": {
     "iopub.execute_input": "2024-08-12T10:39:59.552943Z",
     "iopub.status.busy": "2024-08-12T10:39:59.552536Z",
     "iopub.status.idle": "2024-08-12T10:40:00.543129Z",
     "shell.execute_reply": "2024-08-12T10:40:00.541878Z",
     "shell.execute_reply.started": "2024-08-12T10:39:59.552905Z"
    }
   },
   "outputs": [],
   "source": [
    "acc,rej = shapiro_test(var_cont)"
   ]
  },
  {
   "cell_type": "code",
   "execution_count": null,
   "metadata": {
    "execution": {
     "iopub.execute_input": "2024-08-12T10:40:00.545198Z",
     "iopub.status.busy": "2024-08-12T10:40:00.544742Z",
     "iopub.status.idle": "2024-08-12T10:40:02.611885Z",
     "shell.execute_reply": "2024-08-12T10:40:02.610543Z",
     "shell.execute_reply.started": "2024-08-12T10:40:00.545157Z"
    }
   },
   "outputs": [],
   "source": [
    "plt.figure(figsize=(22,5))\n",
    "for i, column in enumerate(list(df[var_cont].columns), 1):\n",
    "    plt.subplot(1,3,i)\n",
    "    sns.boxplot(data=df[var_cont],x=column)"
   ]
  },
  {
   "cell_type": "markdown",
   "metadata": {},
   "source": [
    "### Variable qualitative (discrète) :"
   ]
  },
  {
   "cell_type": "code",
   "execution_count": null,
   "metadata": {
    "execution": {
     "iopub.execute_input": "2024-08-12T10:40:02.614157Z",
     "iopub.status.busy": "2024-08-12T10:40:02.613667Z",
     "iopub.status.idle": "2024-08-12T10:40:02.623691Z",
     "shell.execute_reply": "2024-08-12T10:40:02.622076Z",
     "shell.execute_reply.started": "2024-08-12T10:40:02.614102Z"
    }
   },
   "outputs": [],
   "source": [
    "def discret_plot_viz(columns,nrow,ncol):\n",
    "    plt.figure(figsize=(22,10))\n",
    "    for i, column in enumerate(list(df[columns].columns), 1):\n",
    "        plt.subplot(nrow,ncol,i)\n",
    "        ax=sns.countplot(y=column,data=df, )\n",
    "    plt.tight_layout\n",
    "    plt.show()"
   ]
  },
  {
   "cell_type": "code",
   "execution_count": null,
   "metadata": {
    "execution": {
     "iopub.execute_input": "2024-08-12T10:40:02.625956Z",
     "iopub.status.busy": "2024-08-12T10:40:02.625448Z",
     "iopub.status.idle": "2024-08-12T10:40:48.363840Z",
     "shell.execute_reply": "2024-08-12T10:40:48.362598Z",
     "shell.execute_reply.started": "2024-08-12T10:40:02.625913Z"
    }
   },
   "outputs": [],
   "source": [
    "discret_plot_viz(var_qual,4,4)"
   ]
  },
  {
   "cell_type": "markdown",
   "metadata": {},
   "source": [
    "### Target : "
   ]
  },
  {
   "cell_type": "code",
   "execution_count": null,
   "metadata": {
    "execution": {
     "iopub.execute_input": "2024-08-12T10:40:48.366020Z",
     "iopub.status.busy": "2024-08-12T10:40:48.365655Z",
     "iopub.status.idle": "2024-08-12T10:40:48.531847Z",
     "shell.execute_reply": "2024-08-12T10:40:48.529985Z",
     "shell.execute_reply.started": "2024-08-12T10:40:48.365987Z"
    }
   },
   "outputs": [],
   "source": [
    "pie_target.plot(kind=\"pie\", legend=True, autopct='%1.2f%%')\n",
    "plt.show()"
   ]
  },
  {
   "cell_type": "markdown",
   "metadata": {},
   "source": [
    "## Analyse  bivariée : \n",
    "#### Target Vs variables continues"
   ]
  },
  {
   "cell_type": "code",
   "execution_count": null,
   "metadata": {
    "execution": {
     "iopub.execute_input": "2024-08-12T10:40:48.535431Z",
     "iopub.status.busy": "2024-08-12T10:40:48.534443Z",
     "iopub.status.idle": "2024-08-12T10:40:48.544862Z",
     "shell.execute_reply": "2024-08-12T10:40:48.543429Z",
     "shell.execute_reply.started": "2024-08-12T10:40:48.535372Z"
    }
   },
   "outputs": [],
   "source": [
    "def boxplot2(columns,nrow,ncol):\n",
    "    plt.figure(figsize=(18,5))\n",
    "    for i,col in enumerate(columns,1):\n",
    "        plt.subplot(nrow,ncol,i)\n",
    "        sns.boxplot(x=df[\"class\"], y = col, data = df[var_cont])"
   ]
  },
  {
   "cell_type": "code",
   "execution_count": null,
   "metadata": {
    "execution": {
     "iopub.execute_input": "2024-08-12T10:40:48.548713Z",
     "iopub.status.busy": "2024-08-12T10:40:48.547599Z",
     "iopub.status.idle": "2024-08-12T10:41:00.491006Z",
     "shell.execute_reply": "2024-08-12T10:41:00.489685Z",
     "shell.execute_reply.started": "2024-08-12T10:40:48.548648Z"
    }
   },
   "outputs": [],
   "source": [
    "boxplot2(var_cont,1,3)"
   ]
  },
  {
   "cell_type": "code",
   "execution_count": null,
   "metadata": {
    "execution": {
     "iopub.execute_input": "2024-08-12T10:41:00.493139Z",
     "iopub.status.busy": "2024-08-12T10:41:00.492737Z",
     "iopub.status.idle": "2024-08-12T10:41:00.502099Z",
     "shell.execute_reply": "2024-08-12T10:41:00.500743Z",
     "shell.execute_reply.started": "2024-08-12T10:41:00.493106Z"
    }
   },
   "outputs": [],
   "source": [
    "def barplot2(feat,target, stacked=False):\n",
    "    \"\"\"\n",
    "    Fonction permettant d'obtenir un barplot en fonction de 2 variables\n",
    "    La normalisation se fait en fonction de la variable 'target'\n",
    "    \"\"\"\n",
    "    # Calculer les comptages groupés\n",
    "    grouped_counts = df.groupby([target,feat]).size().unstack()\n",
    "\n",
    "    # Normalisation par \"target\"\n",
    "    total_by_gender = grouped_counts.sum(axis=1)\n",
    "    normalized_by_gender = grouped_counts.div(grouped_counts.sum(axis=1), axis=0) * 100\n",
    "\n",
    "    #  graphique en barres empilées normalisé par la target\n",
    "    ax1 = normalized_by_gender.plot(kind=\"bar\", stacked=stacked)\n",
    "    ax1.set_ylabel(f'Pourcentage (%) - Normalisé par {target}')\n",
    "    for container in ax1.containers:\n",
    "        ax1.bar_label(container, fmt='%.1f%%')\n",
    "    plt.tight_layout()\n",
    "    plt.title(f'Normalisation par {target}')\n",
    "    plt.show()"
   ]
  },
  {
   "cell_type": "code",
   "execution_count": null,
   "metadata": {
    "execution": {
     "iopub.execute_input": "2024-08-12T10:41:00.503998Z",
     "iopub.status.busy": "2024-08-12T10:41:00.503644Z",
     "iopub.status.idle": "2024-08-12T10:41:00.517688Z",
     "shell.execute_reply": "2024-08-12T10:41:00.516456Z",
     "shell.execute_reply.started": "2024-08-12T10:41:00.503968Z"
    }
   },
   "outputs": [],
   "source": [
    "def barplot2(feat,target, stacked=False):\n",
    "    \"\"\"\n",
    "    Fonction permettant d'obtenir un barplot en fonction de 2 variables\n",
    "    La normalisation se fait en fonction de la variable 'target'\n",
    "    \n",
    "    ON PEUT NORMALISER PAR LA FEATURE EN INVERSANT DANS LES PARAMETRES \"feat\" & \"target\"\n",
    "    \n",
    "    \"\"\"\n",
    "    # Calculer les comptages groupés\n",
    "    grouped_counts = df.groupby([target,feat]).size().unstack()\n",
    "\n",
    "    # Normalisation par \"target\"\n",
    "    total_by_gender = grouped_counts.sum(axis=1)\n",
    "    normalized_by_gender = grouped_counts.div(grouped_counts.sum(axis=1), axis=0) * 100\n",
    "\n",
    "    #  graphique en barres empilées normalisé par la target\n",
    "    ax1 = normalized_by_gender.plot(kind=\"bar\", stacked=stacked)\n",
    "    ax1.set_ylabel(f'Pourcentage (%) - Normalisé par {target}')\n",
    "    for container in ax1.containers:\n",
    "        ax1.bar_label(container, fmt='%.1f%%')\n",
    "    plt.tight_layout()\n",
    "    plt.title(f'Normalisation par {target}')\n",
    "    plt.show()"
   ]
  },
  {
   "cell_type": "code",
   "execution_count": null,
   "metadata": {
    "execution": {
     "iopub.execute_input": "2024-08-12T10:41:00.519708Z",
     "iopub.status.busy": "2024-08-12T10:41:00.519320Z",
     "iopub.status.idle": "2024-08-12T10:41:11.693225Z",
     "shell.execute_reply": "2024-08-12T10:41:11.691991Z",
     "shell.execute_reply.started": "2024-08-12T10:41:00.519677Z"
    }
   },
   "outputs": [],
   "source": [
    "for i in var_qual:\n",
    "    if (i !=\"class\"):\n",
    "        barplot2(i,\"class\")"
   ]
  },
  {
   "cell_type": "code",
   "execution_count": null,
   "metadata": {
    "execution": {
     "iopub.execute_input": "2024-08-12T10:41:11.695448Z",
     "iopub.status.busy": "2024-08-12T10:41:11.694988Z",
     "iopub.status.idle": "2024-08-12T10:41:22.515701Z",
     "shell.execute_reply": "2024-08-12T10:41:22.514355Z",
     "shell.execute_reply.started": "2024-08-12T10:41:11.695406Z"
    }
   },
   "outputs": [],
   "source": [
    "# Inversons feature et target pour avoir la normalisation en fonction des features :\n",
    "for i in var_qual:\n",
    "    if (i !=\"class\"):\n",
    "        barplot2(\"class\",i) #on a inverser ici le code\n"
   ]
  },
  {
   "cell_type": "markdown",
   "metadata": {},
   "source": [
    "## 4. Test statistiques \n",
    "### Target VS qualitative\n"
   ]
  },
  {
   "cell_type": "code",
   "execution_count": null,
   "metadata": {
    "execution": {
     "iopub.execute_input": "2024-08-12T10:41:22.517813Z",
     "iopub.status.busy": "2024-08-12T10:41:22.517369Z",
     "iopub.status.idle": "2024-08-12T10:41:22.530258Z",
     "shell.execute_reply": "2024-08-12T10:41:22.528808Z",
     "shell.execute_reply.started": "2024-08-12T10:41:22.517773Z"
    }
   },
   "outputs": [],
   "source": [
    "def khi2(features, target):\n",
    "    \"\"\"\n",
    "    Fonction permettant l'application d'un test de chi2 de contingence entre 2 variables qualitatives (ou discrètes)\n",
    "    features : liste ou str \n",
    "    target : str\n",
    "    renvoi un tuple de liste, le premier élément du tuple sont les variables à conserver, le second les variables à\n",
    "    supprimer\n",
    "\"\"\"\n",
    "    #Listes qui contiendra les variables triées après le test statistique\n",
    "    var_a_supprimer = []\n",
    "    var_a_conserver = []\n",
    "    \n",
    "    #Si la features entrée est au format str on la transforme en liste :\n",
    "    if type(features)!=list:\n",
    "        features = [features]\n",
    "    print(colored(\"P-values :\\n\",\"magenta\",attrs=[\"bold\"]))\n",
    "    \n",
    "    for feature in features :\n",
    "        alpha = 0.05\n",
    "        df_temp = pd.crosstab(df[target], df[feature])\n",
    "        pval = chi2_contingency(df_temp)[1] #récupération uniquement de la pvalue\n",
    "        \n",
    "        if pval<alpha:\n",
    "            var_a_conserver.append(feature) #On rejette l'hypothèse H0 \n",
    "            #(H0 = pas de différence entre les population) au risque de 5% de se tromper\n",
    "            print(f\"{colored(feature,'green',attrs=['bold'])} : {pval}\")\n",
    "        else:\n",
    "            var_a_supprimer.append(feature) #on ne rejette pas H0, \n",
    "            #et donc on conclu qu'il n'y a pas de différence significative entre les population\n",
    "            print(f\"{colored(feature,'light_red', attrs=['bold'])} : {pval}\")\n",
    "    print()\n",
    "    print(colored(\"Variable a conserver \",\"green\", attrs=[\"bold\"]), var_a_conserver)\n",
    "    print(colored(\"Variable a supprimer \",\"red\", attrs=[\"bold\"]), var_a_supprimer)\n",
    "      \n",
    "    return var_a_conserver,var_a_supprimer"
   ]
  },
  {
   "cell_type": "code",
   "execution_count": null,
   "metadata": {
    "execution": {
     "iopub.execute_input": "2024-08-12T10:41:22.533133Z",
     "iopub.status.busy": "2024-08-12T10:41:22.532598Z",
     "iopub.status.idle": "2024-08-12T10:41:24.754162Z",
     "shell.execute_reply": "2024-08-12T10:41:24.752977Z",
     "shell.execute_reply.started": "2024-08-12T10:41:22.533081Z"
    }
   },
   "outputs": [],
   "source": [
    "khi2(var_cont,\"class\")"
   ]
  },
  {
   "cell_type": "code",
   "execution_count": null,
   "metadata": {},
   "outputs": [],
   "source": []
  },
  {
   "cell_type": "markdown",
   "metadata": {},
   "source": [
    "### Target vs continue\n",
    "**Test de Man Withney**\n",
    "\n",
    "Nous appliquons ce test statistique est car aucune des variables continues **ne suit de loi normal** et notre **target** ne prend que **2 modalité**"
   ]
  },
  {
   "cell_type": "code",
   "execution_count": null,
   "metadata": {
    "execution": {
     "iopub.execute_input": "2024-08-12T10:41:24.755916Z",
     "iopub.status.busy": "2024-08-12T10:41:24.755550Z",
     "iopub.status.idle": "2024-08-12T10:41:24.766275Z",
     "shell.execute_reply": "2024-08-12T10:41:24.765004Z",
     "shell.execute_reply.started": "2024-08-12T10:41:24.755881Z"
    }
   },
   "outputs": [],
   "source": [
    "def manwithney(features, target,dataframe):\n",
    "    var_a_conserver, var_a_supprimer = [],[]\n",
    "    \"\"\"\n",
    "    Fonction qui effectue un test de Man Withney entre une variable qualitative et une variable continue\n",
    "    features : liste ou str \n",
    "    target : str\n",
    "    dataframe : jeu de donnée contenant les features et la target\n",
    "    renvoi un tuple de liste, le premier élément du tuple sont les variables à conserver, le second les variables à\n",
    "    supprimer\n",
    "    \"\"\"\n",
    "    if type(features) == str:\n",
    "        features = [features]\n",
    "    print(colored(\"P-values :\",\"blue\")) \n",
    "    print()\n",
    "    for feat in features:\n",
    "        stat, pval = mannwhitneyu(dataframe[feat],dataframe[target]) #test man withney\n",
    "        alpha = 0.05\n",
    "        if pval<alpha:\n",
    "            print(f'{colored(feat,\"green\")} : {pval}')\n",
    "            var_a_conserver.append(feat)\n",
    "        else:\n",
    "            print(f'{colored(feat,\"red\")} : {pval}')\n",
    "\n",
    "            var_a_supprimer.append(feat)\n",
    "    print()        \n",
    "    print(colored(\"Variable a conserver \",\"green\", attrs=[\"bold\"]), var_a_conserver)\n",
    "    print(colored(\"Variable a supprimer \",\"red\", attrs=[\"bold\"]), var_a_supprimer)\n",
    "    return var_a_conserver, var_a_supprimer\n",
    "        "
   ]
  },
  {
   "cell_type": "code",
   "execution_count": 74,
   "metadata": {
    "execution": {
     "iopub.execute_input": "2024-08-12T10:41:24.768284Z",
     "iopub.status.busy": "2024-08-12T10:41:24.767937Z",
     "iopub.status.idle": "2024-08-12T10:41:25.582300Z",
     "shell.execute_reply": "2024-08-12T10:41:25.581106Z",
     "shell.execute_reply.started": "2024-08-12T10:41:24.768256Z"
    }
   },
   "outputs": [],
   "source": [
    "# Encodage de la target afin de pouvoir effectuer le test man whitney\n",
    "encoder = LabelEncoder()\n",
    "target_encoded = encoder.fit_transform(df[\"class\"])"
   ]
  },
  {
   "cell_type": "code",
   "execution_count": 75,
   "metadata": {
    "execution": {
     "iopub.execute_input": "2024-08-12T10:41:25.584525Z",
     "iopub.status.busy": "2024-08-12T10:41:25.584047Z",
     "iopub.status.idle": "2024-08-12T10:41:25.595761Z",
     "shell.execute_reply": "2024-08-12T10:41:25.594421Z",
     "shell.execute_reply.started": "2024-08-12T10:41:25.584480Z"
    }
   },
   "outputs": [],
   "source": [
    "df[\"target_encoded\"] = target_encoded"
   ]
  },
  {
   "cell_type": "code",
   "execution_count": 76,
   "metadata": {
    "execution": {
     "iopub.execute_input": "2024-08-12T10:41:25.597634Z",
     "iopub.status.busy": "2024-08-12T10:41:25.597236Z",
     "iopub.status.idle": "2024-08-12T10:41:25.605116Z",
     "shell.execute_reply": "2024-08-12T10:41:25.603842Z",
     "shell.execute_reply.started": "2024-08-12T10:41:25.597568Z"
    }
   },
   "outputs": [
    {
     "name": "stdout",
     "output_type": "stream",
     "text": [
      "Classe initiale : ['e' 'p']\n",
      "Classe transformées : [0 1]\n"
     ]
    }
   ],
   "source": [
    "print(\"Classe initiale :\", encoder.classes_)\n",
    "print(\"Classe transformées :\", encoder.transform(encoder.classes_))\n"
   ]
  },
  {
   "cell_type": "code",
   "execution_count": null,
   "metadata": {
    "execution": {
     "iopub.execute_input": "2024-08-12T10:41:25.607302Z",
     "iopub.status.busy": "2024-08-12T10:41:25.606487Z",
     "iopub.status.idle": "2024-08-12T10:42:04.636924Z",
     "shell.execute_reply": "2024-08-12T10:42:04.635682Z",
     "shell.execute_reply.started": "2024-08-12T10:41:25.607266Z"
    }
   },
   "outputs": [],
   "source": [
    "var_cont_cons, var_cont_suppr = manwithney(var_cont, \"target_encoded\", df)"
   ]
  },
  {
   "cell_type": "markdown",
   "metadata": {},
   "source": [
    "Le test nous montre qu'on doit conserver toutes les variables"
   ]
  },
  {
   "cell_type": "code",
   "execution_count": 77,
   "metadata": {
    "execution": {
     "iopub.execute_input": "2024-08-12T10:42:04.638645Z",
     "iopub.status.busy": "2024-08-12T10:42:04.638300Z",
     "iopub.status.idle": "2024-08-12T10:42:05.545879Z",
     "shell.execute_reply": "2024-08-12T10:42:05.544338Z",
     "shell.execute_reply.started": "2024-08-12T10:42:04.638606Z"
    }
   },
   "outputs": [],
   "source": [
    "#Nous pouvons retirer la target encodée de df :\n",
    "df.drop(columns=\"target_encoded\", axis = 1, inplace = True)"
   ]
  },
  {
   "cell_type": "markdown",
   "metadata": {},
   "source": [
    "# 5. Preprocessing\n",
    "- Encodage et normalisation des données"
   ]
  },
  {
   "cell_type": "code",
   "execution_count": 78,
   "metadata": {
    "execution": {
     "iopub.execute_input": "2024-08-12T10:42:05.547975Z",
     "iopub.status.busy": "2024-08-12T10:42:05.547619Z",
     "iopub.status.idle": "2024-08-12T10:42:06.074793Z",
     "shell.execute_reply": "2024-08-12T10:42:06.073608Z",
     "shell.execute_reply.started": "2024-08-12T10:42:05.547945Z"
    }
   },
   "outputs": [],
   "source": [
    "X = df.drop(\"class\",axis = 1 )\n",
    "y = df[\"class\"]"
   ]
  },
  {
   "cell_type": "code",
   "execution_count": 79,
   "metadata": {
    "execution": {
     "iopub.execute_input": "2024-08-12T10:42:06.076861Z",
     "iopub.status.busy": "2024-08-12T10:42:06.076380Z",
     "iopub.status.idle": "2024-08-12T10:42:06.082539Z",
     "shell.execute_reply": "2024-08-12T10:42:06.081281Z",
     "shell.execute_reply.started": "2024-08-12T10:42:06.076817Z"
    }
   },
   "outputs": [],
   "source": [
    "var_qual.remove(\"class\")"
   ]
  },
  {
   "cell_type": "code",
   "execution_count": 80,
   "metadata": {
    "execution": {
     "iopub.execute_input": "2024-08-12T10:42:06.084493Z",
     "iopub.status.busy": "2024-08-12T10:42:06.084129Z",
     "iopub.status.idle": "2024-08-12T10:42:10.992743Z",
     "shell.execute_reply": "2024-08-12T10:42:10.991369Z",
     "shell.execute_reply.started": "2024-08-12T10:42:06.084462Z"
    }
   },
   "outputs": [],
   "source": [
    "X_train,X_test,y_train,y_test = train_test_split(X,y, random_state = 42, test_size=0.2)"
   ]
  },
  {
   "cell_type": "markdown",
   "metadata": {},
   "source": [
    "##### Normalisation : "
   ]
  },
  {
   "cell_type": "code",
   "execution_count": 81,
   "metadata": {
    "execution": {
     "iopub.execute_input": "2024-08-12T10:42:10.994421Z",
     "iopub.status.busy": "2024-08-12T10:42:10.994063Z",
     "iopub.status.idle": "2024-08-12T10:42:11.240053Z",
     "shell.execute_reply": "2024-08-12T10:42:11.238751Z",
     "shell.execute_reply.started": "2024-08-12T10:42:10.994391Z"
    }
   },
   "outputs": [],
   "source": [
    "scaler = StandardScaler()\n",
    "scaler.fit(X_train[var_cont])\n",
    "X[var_cont] = scaler.transform(X[var_cont])"
   ]
  },
  {
   "cell_type": "markdown",
   "metadata": {
    "execution": {
     "iopub.execute_input": "2024-08-06T06:55:59.368577Z",
     "iopub.status.busy": "2024-08-06T06:55:59.368144Z",
     "iopub.status.idle": "2024-08-06T06:55:59.395817Z",
     "shell.execute_reply": "2024-08-06T06:55:59.394250Z",
     "shell.execute_reply.started": "2024-08-06T06:55:59.368546Z"
    }
   },
   "source": [
    "### Encodage : \n",
    "#### Features :"
   ]
  },
  {
   "cell_type": "code",
   "execution_count": 82,
   "metadata": {
    "execution": {
     "iopub.execute_input": "2024-08-12T10:42:11.242051Z",
     "iopub.status.busy": "2024-08-12T10:42:11.241547Z",
     "iopub.status.idle": "2024-08-12T10:42:21.305686Z",
     "shell.execute_reply": "2024-08-12T10:42:21.304514Z",
     "shell.execute_reply.started": "2024-08-12T10:42:11.242006Z"
    }
   },
   "outputs": [
    {
     "name": "stdout",
     "output_type": "stream",
     "text": [
      "{'cap-shape': LabelEncoder(), 'cap-surface': LabelEncoder(), 'cap-color': LabelEncoder(), 'does-bruise-or-bleed': LabelEncoder(), 'gill-attachment': LabelEncoder(), 'gill-spacing': LabelEncoder(), 'gill-color': LabelEncoder(), 'stem-color': LabelEncoder(), 'has-ring': LabelEncoder(), 'ring-type': LabelEncoder(), 'habitat': LabelEncoder(), 'season': LabelEncoder()}\n"
     ]
    },
    {
     "data": {
      "text/html": [
       "<div>\n",
       "<style scoped>\n",
       "    .dataframe tbody tr th:only-of-type {\n",
       "        vertical-align: middle;\n",
       "    }\n",
       "\n",
       "    .dataframe tbody tr th {\n",
       "        vertical-align: top;\n",
       "    }\n",
       "\n",
       "    .dataframe thead th {\n",
       "        text-align: right;\n",
       "    }\n",
       "</style>\n",
       "<table border=\"1\" class=\"dataframe\">\n",
       "  <thead>\n",
       "    <tr style=\"text-align: right;\">\n",
       "      <th></th>\n",
       "      <th>cap-shape</th>\n",
       "      <th>cap-surface</th>\n",
       "      <th>cap-color</th>\n",
       "      <th>does-bruise-or-bleed</th>\n",
       "      <th>gill-attachment</th>\n",
       "      <th>gill-spacing</th>\n",
       "      <th>gill-color</th>\n",
       "      <th>stem-color</th>\n",
       "      <th>has-ring</th>\n",
       "      <th>ring-type</th>\n",
       "      <th>habitat</th>\n",
       "      <th>season</th>\n",
       "    </tr>\n",
       "  </thead>\n",
       "  <tbody>\n",
       "    <tr>\n",
       "      <th>0</th>\n",
       "      <td>1</td>\n",
       "      <td>1</td>\n",
       "      <td>1</td>\n",
       "      <td>0</td>\n",
       "      <td>0</td>\n",
       "      <td>0</td>\n",
       "      <td>3</td>\n",
       "      <td>2</td>\n",
       "      <td>0</td>\n",
       "      <td>0</td>\n",
       "      <td>0</td>\n",
       "      <td>0</td>\n",
       "    </tr>\n",
       "    <tr>\n",
       "      <th>1</th>\n",
       "      <td>4</td>\n",
       "      <td>0</td>\n",
       "      <td>1</td>\n",
       "      <td>0</td>\n",
       "      <td>0</td>\n",
       "      <td>0</td>\n",
       "      <td>0</td>\n",
       "      <td>1</td>\n",
       "      <td>2</td>\n",
       "      <td>1</td>\n",
       "      <td>0</td>\n",
       "      <td>3</td>\n",
       "    </tr>\n",
       "    <tr>\n",
       "      <th>2</th>\n",
       "      <td>1</td>\n",
       "      <td>1</td>\n",
       "      <td>1</td>\n",
       "      <td>0</td>\n",
       "      <td>3</td>\n",
       "      <td>0</td>\n",
       "      <td>3</td>\n",
       "      <td>0</td>\n",
       "      <td>0</td>\n",
       "      <td>0</td>\n",
       "      <td>2</td>\n",
       "      <td>3</td>\n",
       "    </tr>\n",
       "    <tr>\n",
       "      <th>3</th>\n",
       "      <td>1</td>\n",
       "      <td>3</td>\n",
       "      <td>1</td>\n",
       "      <td>0</td>\n",
       "      <td>2</td>\n",
       "      <td>0</td>\n",
       "      <td>1</td>\n",
       "      <td>2</td>\n",
       "      <td>0</td>\n",
       "      <td>0</td>\n",
       "      <td>0</td>\n",
       "      <td>2</td>\n",
       "    </tr>\n",
       "    <tr>\n",
       "      <th>4</th>\n",
       "      <td>4</td>\n",
       "      <td>0</td>\n",
       "      <td>2</td>\n",
       "      <td>0</td>\n",
       "      <td>1</td>\n",
       "      <td>0</td>\n",
       "      <td>3</td>\n",
       "      <td>2</td>\n",
       "      <td>0</td>\n",
       "      <td>0</td>\n",
       "      <td>1</td>\n",
       "      <td>0</td>\n",
       "    </tr>\n",
       "  </tbody>\n",
       "</table>\n",
       "</div>"
      ],
      "text/plain": [
       "   cap-shape  cap-surface  cap-color  does-bruise-or-bleed  gill-attachment  \\\n",
       "0          1            1          1                     0                0   \n",
       "1          4            0          1                     0                0   \n",
       "2          1            1          1                     0                3   \n",
       "3          1            3          1                     0                2   \n",
       "4          4            0          2                     0                1   \n",
       "\n",
       "   gill-spacing  gill-color  stem-color  has-ring  ring-type  habitat  season  \n",
       "0             0           3           2         0          0        0       0  \n",
       "1             0           0           1         2          1        0       3  \n",
       "2             0           3           0         0          0        2       3  \n",
       "3             0           1           2         0          0        0       2  \n",
       "4             0           3           2         0          0        1       0  "
      ]
     },
     "execution_count": 82,
     "metadata": {},
     "output_type": "execute_result"
    }
   ],
   "source": [
    "# Encodage ordinal (Label Encoding)\n",
    "feature_encoders = {}\n",
    "for column in var_qual:\n",
    "    feature_encoders[column] = LabelEncoder()\n",
    "    feature_encoders[column].fit(X_train[column].astype(str))\n",
    "    X[column] = feature_encoders[column].transform(X[column])\n",
    "\n",
    "print(feature_encoders)\n",
    "X[var_qual].head()\n"
   ]
  },
  {
   "cell_type": "markdown",
   "metadata": {
    "execution": {
     "iopub.execute_input": "2024-08-06T07:12:32.333217Z",
     "iopub.status.busy": "2024-08-06T07:12:32.332251Z",
     "iopub.status.idle": "2024-08-06T07:12:32.341187Z",
     "shell.execute_reply": "2024-08-06T07:12:32.339359Z",
     "shell.execute_reply.started": "2024-08-06T07:12:32.333180Z"
    }
   },
   "source": [
    "#### Encodage Target : "
   ]
  },
  {
   "cell_type": "code",
   "execution_count": 89,
   "metadata": {},
   "outputs": [
    {
     "data": {
      "text/html": [
       "<style>#sk-container-id-2 {color: black;}#sk-container-id-2 pre{padding: 0;}#sk-container-id-2 div.sk-toggleable {background-color: white;}#sk-container-id-2 label.sk-toggleable__label {cursor: pointer;display: block;width: 100%;margin-bottom: 0;padding: 0.3em;box-sizing: border-box;text-align: center;}#sk-container-id-2 label.sk-toggleable__label-arrow:before {content: \"▸\";float: left;margin-right: 0.25em;color: #696969;}#sk-container-id-2 label.sk-toggleable__label-arrow:hover:before {color: black;}#sk-container-id-2 div.sk-estimator:hover label.sk-toggleable__label-arrow:before {color: black;}#sk-container-id-2 div.sk-toggleable__content {max-height: 0;max-width: 0;overflow: hidden;text-align: left;background-color: #f0f8ff;}#sk-container-id-2 div.sk-toggleable__content pre {margin: 0.2em;color: black;border-radius: 0.25em;background-color: #f0f8ff;}#sk-container-id-2 input.sk-toggleable__control:checked~div.sk-toggleable__content {max-height: 200px;max-width: 100%;overflow: auto;}#sk-container-id-2 input.sk-toggleable__control:checked~label.sk-toggleable__label-arrow:before {content: \"▾\";}#sk-container-id-2 div.sk-estimator input.sk-toggleable__control:checked~label.sk-toggleable__label {background-color: #d4ebff;}#sk-container-id-2 div.sk-label input.sk-toggleable__control:checked~label.sk-toggleable__label {background-color: #d4ebff;}#sk-container-id-2 input.sk-hidden--visually {border: 0;clip: rect(1px 1px 1px 1px);clip: rect(1px, 1px, 1px, 1px);height: 1px;margin: -1px;overflow: hidden;padding: 0;position: absolute;width: 1px;}#sk-container-id-2 div.sk-estimator {font-family: monospace;background-color: #f0f8ff;border: 1px dotted black;border-radius: 0.25em;box-sizing: border-box;margin-bottom: 0.5em;}#sk-container-id-2 div.sk-estimator:hover {background-color: #d4ebff;}#sk-container-id-2 div.sk-parallel-item::after {content: \"\";width: 100%;border-bottom: 1px solid gray;flex-grow: 1;}#sk-container-id-2 div.sk-label:hover label.sk-toggleable__label {background-color: #d4ebff;}#sk-container-id-2 div.sk-serial::before {content: \"\";position: absolute;border-left: 1px solid gray;box-sizing: border-box;top: 0;bottom: 0;left: 50%;z-index: 0;}#sk-container-id-2 div.sk-serial {display: flex;flex-direction: column;align-items: center;background-color: white;padding-right: 0.2em;padding-left: 0.2em;position: relative;}#sk-container-id-2 div.sk-item {position: relative;z-index: 1;}#sk-container-id-2 div.sk-parallel {display: flex;align-items: stretch;justify-content: center;background-color: white;position: relative;}#sk-container-id-2 div.sk-item::before, #sk-container-id-2 div.sk-parallel-item::before {content: \"\";position: absolute;border-left: 1px solid gray;box-sizing: border-box;top: 0;bottom: 0;left: 50%;z-index: -1;}#sk-container-id-2 div.sk-parallel-item {display: flex;flex-direction: column;z-index: 1;position: relative;background-color: white;}#sk-container-id-2 div.sk-parallel-item:first-child::after {align-self: flex-end;width: 50%;}#sk-container-id-2 div.sk-parallel-item:last-child::after {align-self: flex-start;width: 50%;}#sk-container-id-2 div.sk-parallel-item:only-child::after {width: 0;}#sk-container-id-2 div.sk-dashed-wrapped {border: 1px dashed gray;margin: 0 0.4em 0.5em 0.4em;box-sizing: border-box;padding-bottom: 0.4em;background-color: white;}#sk-container-id-2 div.sk-label label {font-family: monospace;font-weight: bold;display: inline-block;line-height: 1.2em;}#sk-container-id-2 div.sk-label-container {text-align: center;}#sk-container-id-2 div.sk-container {/* jupyter's `normalize.less` sets `[hidden] { display: none; }` but bootstrap.min.css set `[hidden] { display: none !important; }` so we also need the `!important` here to be able to override the default hidden behavior on the sphinx rendered scikit-learn.org. See: https://github.com/scikit-learn/scikit-learn/issues/21755 */display: inline-block !important;position: relative;}#sk-container-id-2 div.sk-text-repr-fallback {display: none;}</style><div id=\"sk-container-id-2\" class=\"sk-top-container\"><div class=\"sk-text-repr-fallback\"><pre>LabelEncoder()</pre><b>In a Jupyter environment, please rerun this cell to show the HTML representation or trust the notebook. <br />On GitHub, the HTML representation is unable to render, please try loading this page with nbviewer.org.</b></div><div class=\"sk-container\" hidden><div class=\"sk-item\"><div class=\"sk-estimator sk-toggleable\"><input class=\"sk-toggleable__control sk-hidden--visually\" id=\"sk-estimator-id-2\" type=\"checkbox\" checked><label for=\"sk-estimator-id-2\" class=\"sk-toggleable__label sk-toggleable__label-arrow\">LabelEncoder</label><div class=\"sk-toggleable__content\"><pre>LabelEncoder()</pre></div></div></div></div></div>"
      ],
      "text/plain": [
       "LabelEncoder()"
      ]
     },
     "execution_count": 89,
     "metadata": {},
     "output_type": "execute_result"
    }
   ],
   "source": [
    "label_encoders = LabelEncoder()\n",
    "label_encoders.fit(y_train)"
   ]
  },
  {
   "cell_type": "code",
   "execution_count": null,
   "metadata": {
    "execution": {
     "iopub.execute_input": "2024-08-12T10:42:21.307680Z",
     "iopub.status.busy": "2024-08-12T10:42:21.307223Z",
     "iopub.status.idle": "2024-08-12T10:42:22.108225Z",
     "shell.execute_reply": "2024-08-12T10:42:22.106994Z",
     "shell.execute_reply.started": "2024-08-12T10:42:21.307639Z"
    }
   },
   "outputs": [],
   "source": [
    "label_encoders = LabelEncoder()\n",
    "label_encoders.fit(y_train)\n",
    "\n",
    "y_index = y.index #On conserve l'index sinon la transformation ci-dessous vas le réinitialiser\n",
    "#et cela nous empêchera de faire la concaténation [X,y] correctement\n",
    "\n",
    "#Ce soucis d'index vien du fait que lors de l'imputation des données nous avons supprimer certaines lignes, donc il manque des index\n",
    "\n",
    "y = pd.DataFrame(label_encoders.transform(y), columns=[\"class\"],index=y_index)"
   ]
  },
  {
   "cell_type": "markdown",
   "metadata": {},
   "source": [
    "# Serialisation des données : "
   ]
  },
  {
   "cell_type": "code",
   "execution_count": 97,
   "metadata": {
    "execution": {
     "iopub.execute_input": "2024-08-12T10:49:26.580276Z",
     "iopub.status.busy": "2024-08-12T10:49:26.579120Z",
     "iopub.status.idle": "2024-08-12T10:49:26.605218Z",
     "shell.execute_reply": "2024-08-12T10:49:26.603661Z",
     "shell.execute_reply.started": "2024-08-12T10:49:26.580226Z"
    }
   },
   "outputs": [
    {
     "name": "stdout",
     "output_type": "stream",
     "text": [
      "\u001b[34mEnregistrement de :\u001b[0m \u001b[32mSimpleImputer(strategy='median')\u001b[0m\n",
      "\u001b[34mEnregistrement de :\u001b[0m \u001b[32mSimpleImputer(strategy='most_frequent')\u001b[0m\n",
      "\u001b[34mEnregistrement de :\u001b[0m \u001b[32mStandardScaler()\u001b[0m\n",
      "\u001b[34mEnregistrement de :\u001b[0m \u001b[32mfeature_encoders\u001b[0m\n",
      "\u001b[34mEnregistrement de :\u001b[0m \u001b[32mLabelEncoder()\u001b[0m\n"
     ]
    }
   ],
   "source": [
    "# Enregistrement StandardScaler\n",
    "with open(\"scaler.pkl\", \"wb\") as f:\n",
    "    pickle.dump(scaler,f)\n",
    "#Enregistrement Features encoder \n",
    "with open(\"feature_encoders.pkl\", \"wb\") as f:\n",
    "    pickle.dump(feature_encoders,f)\n",
    "\n",
    "#Enregistrement Label Encoder :\n",
    "with open(\"label_encoders.pkl\", \"wb\") as f:\n",
    "    pickle.dump(label_encoders,f)\n",
    "\n",
    "#Enregistrement Imputer  :\n",
    "with open(\"imputer_mediane.pkl\", \"wb\") as f:\n",
    "    pickle.dump(imputer_mediane,f)\n",
    "with open(\"imputer_mode.pkl\", \"wb\") as f:\n",
    "    pickle.dump(imputer_mode,f)\n",
    "\n",
    "\n",
    "    \n",
    "    \n",
    "print(f'{colored(\"Enregistrement de :\",\"blue\")} {colored(imputer_mediane,\"green\")}')\n",
    "print(f'{colored(\"Enregistrement de :\",\"blue\")} {colored(imputer_mode,\"green\")}')      \n",
    "print(f'{colored(\"Enregistrement de :\",\"blue\")} {colored(scaler,\"green\")}')\n",
    "print(f'{colored(\"Enregistrement de :\",\"blue\")} {colored(\"feature_encoders\",\"green\")}')\n",
    "print(f'{colored(\"Enregistrement de :\",\"blue\")} {colored(label_encoders,\"green\")}')\n"
   ]
  },
  {
   "cell_type": "markdown",
   "metadata": {},
   "source": [
    "# Enregistrement du dataframe preprocessed : "
   ]
  },
  {
   "cell_type": "code",
   "execution_count": 98,
   "metadata": {
    "execution": {
     "iopub.execute_input": "2024-08-12T10:49:43.580569Z",
     "iopub.status.busy": "2024-08-12T10:49:43.580137Z",
     "iopub.status.idle": "2024-08-12T10:49:44.188502Z",
     "shell.execute_reply": "2024-08-12T10:49:44.187180Z",
     "shell.execute_reply.started": "2024-08-12T10:49:43.580525Z"
    }
   },
   "outputs": [
    {
     "data": {
      "text/html": [
       "<div>\n",
       "<style scoped>\n",
       "    .dataframe tbody tr th:only-of-type {\n",
       "        vertical-align: middle;\n",
       "    }\n",
       "\n",
       "    .dataframe tbody tr th {\n",
       "        vertical-align: top;\n",
       "    }\n",
       "\n",
       "    .dataframe thead th {\n",
       "        text-align: right;\n",
       "    }\n",
       "</style>\n",
       "<table border=\"1\" class=\"dataframe\">\n",
       "  <thead>\n",
       "    <tr style=\"text-align: right;\">\n",
       "      <th></th>\n",
       "      <th>id</th>\n",
       "      <th>cap-diameter</th>\n",
       "      <th>cap-shape</th>\n",
       "      <th>cap-surface</th>\n",
       "      <th>cap-color</th>\n",
       "      <th>does-bruise-or-bleed</th>\n",
       "      <th>gill-attachment</th>\n",
       "      <th>gill-spacing</th>\n",
       "      <th>gill-color</th>\n",
       "      <th>stem-height</th>\n",
       "      <th>stem-width</th>\n",
       "      <th>stem-color</th>\n",
       "      <th>has-ring</th>\n",
       "      <th>ring-type</th>\n",
       "      <th>habitat</th>\n",
       "      <th>season</th>\n",
       "      <th>class</th>\n",
       "    </tr>\n",
       "  </thead>\n",
       "  <tbody>\n",
       "    <tr>\n",
       "      <th>0</th>\n",
       "      <td>0</td>\n",
       "      <td>0.534797</td>\n",
       "      <td>1</td>\n",
       "      <td>1</td>\n",
       "      <td>1</td>\n",
       "      <td>0</td>\n",
       "      <td>0</td>\n",
       "      <td>0</td>\n",
       "      <td>3</td>\n",
       "      <td>-0.680893</td>\n",
       "      <td>0.523513</td>\n",
       "      <td>2</td>\n",
       "      <td>0</td>\n",
       "      <td>0</td>\n",
       "      <td>0</td>\n",
       "      <td>0</td>\n",
       "      <td>0</td>\n",
       "    </tr>\n",
       "    <tr>\n",
       "      <th>1</th>\n",
       "      <td>1</td>\n",
       "      <td>-0.386386</td>\n",
       "      <td>4</td>\n",
       "      <td>0</td>\n",
       "      <td>1</td>\n",
       "      <td>0</td>\n",
       "      <td>0</td>\n",
       "      <td>0</td>\n",
       "      <td>0</td>\n",
       "      <td>-0.577198</td>\n",
       "      <td>-0.577326</td>\n",
       "      <td>1</td>\n",
       "      <td>2</td>\n",
       "      <td>1</td>\n",
       "      <td>0</td>\n",
       "      <td>3</td>\n",
       "      <td>1</td>\n",
       "    </tr>\n",
       "    <tr>\n",
       "      <th>2</th>\n",
       "      <td>2</td>\n",
       "      <td>0.135403</td>\n",
       "      <td>1</td>\n",
       "      <td>1</td>\n",
       "      <td>1</td>\n",
       "      <td>0</td>\n",
       "      <td>3</td>\n",
       "      <td>0</td>\n",
       "      <td>3</td>\n",
       "      <td>0.185705</td>\n",
       "      <td>-0.151075</td>\n",
       "      <td>0</td>\n",
       "      <td>0</td>\n",
       "      <td>0</td>\n",
       "      <td>2</td>\n",
       "      <td>3</td>\n",
       "      <td>0</td>\n",
       "    </tr>\n",
       "    <tr>\n",
       "      <th>3</th>\n",
       "      <td>3</td>\n",
       "      <td>-0.521664</td>\n",
       "      <td>1</td>\n",
       "      <td>3</td>\n",
       "      <td>1</td>\n",
       "      <td>0</td>\n",
       "      <td>2</td>\n",
       "      <td>0</td>\n",
       "      <td>1</td>\n",
       "      <td>-0.810513</td>\n",
       "      <td>-0.571148</td>\n",
       "      <td>2</td>\n",
       "      <td>0</td>\n",
       "      <td>0</td>\n",
       "      <td>0</td>\n",
       "      <td>2</td>\n",
       "      <td>0</td>\n",
       "    </tr>\n",
       "    <tr>\n",
       "      <th>4</th>\n",
       "      <td>4</td>\n",
       "      <td>-0.098651</td>\n",
       "      <td>4</td>\n",
       "      <td>0</td>\n",
       "      <td>2</td>\n",
       "      <td>0</td>\n",
       "      <td>1</td>\n",
       "      <td>0</td>\n",
       "      <td>3</td>\n",
       "      <td>-1.103082</td>\n",
       "      <td>-0.345050</td>\n",
       "      <td>2</td>\n",
       "      <td>0</td>\n",
       "      <td>0</td>\n",
       "      <td>1</td>\n",
       "      <td>0</td>\n",
       "      <td>0</td>\n",
       "    </tr>\n",
       "    <tr>\n",
       "      <th>...</th>\n",
       "      <td>...</td>\n",
       "      <td>...</td>\n",
       "      <td>...</td>\n",
       "      <td>...</td>\n",
       "      <td>...</td>\n",
       "      <td>...</td>\n",
       "      <td>...</td>\n",
       "      <td>...</td>\n",
       "      <td>...</td>\n",
       "      <td>...</td>\n",
       "      <td>...</td>\n",
       "      <td>...</td>\n",
       "      <td>...</td>\n",
       "      <td>...</td>\n",
       "      <td>...</td>\n",
       "      <td>...</td>\n",
       "      <td>...</td>\n",
       "    </tr>\n",
       "    <tr>\n",
       "      <th>3116940</th>\n",
       "      <td>3116940</td>\n",
       "      <td>0.640013</td>\n",
       "      <td>1</td>\n",
       "      <td>2</td>\n",
       "      <td>0</td>\n",
       "      <td>2</td>\n",
       "      <td>0</td>\n",
       "      <td>0</td>\n",
       "      <td>3</td>\n",
       "      <td>2.144810</td>\n",
       "      <td>0.946057</td>\n",
       "      <td>2</td>\n",
       "      <td>2</td>\n",
       "      <td>1</td>\n",
       "      <td>0</td>\n",
       "      <td>2</td>\n",
       "      <td>0</td>\n",
       "    </tr>\n",
       "    <tr>\n",
       "      <th>3116941</th>\n",
       "      <td>3116941</td>\n",
       "      <td>0.981431</td>\n",
       "      <td>3</td>\n",
       "      <td>2</td>\n",
       "      <td>2</td>\n",
       "      <td>2</td>\n",
       "      <td>1</td>\n",
       "      <td>0</td>\n",
       "      <td>2</td>\n",
       "      <td>0.111637</td>\n",
       "      <td>1.954232</td>\n",
       "      <td>2</td>\n",
       "      <td>0</td>\n",
       "      <td>0</td>\n",
       "      <td>0</td>\n",
       "      <td>2</td>\n",
       "      <td>0</td>\n",
       "    </tr>\n",
       "    <tr>\n",
       "      <th>3116942</th>\n",
       "      <td>3116942</td>\n",
       "      <td>0.324363</td>\n",
       "      <td>4</td>\n",
       "      <td>0</td>\n",
       "      <td>1</td>\n",
       "      <td>0</td>\n",
       "      <td>0</td>\n",
       "      <td>0</td>\n",
       "      <td>3</td>\n",
       "      <td>1.170813</td>\n",
       "      <td>-0.011463</td>\n",
       "      <td>3</td>\n",
       "      <td>2</td>\n",
       "      <td>1</td>\n",
       "      <td>0</td>\n",
       "      <td>0</td>\n",
       "      <td>1</td>\n",
       "    </tr>\n",
       "    <tr>\n",
       "      <th>3116943</th>\n",
       "      <td>3116943</td>\n",
       "      <td>0.674370</td>\n",
       "      <td>2</td>\n",
       "      <td>0</td>\n",
       "      <td>0</td>\n",
       "      <td>2</td>\n",
       "      <td>2</td>\n",
       "      <td>0</td>\n",
       "      <td>2</td>\n",
       "      <td>1.030083</td>\n",
       "      <td>0.817564</td>\n",
       "      <td>2</td>\n",
       "      <td>2</td>\n",
       "      <td>1</td>\n",
       "      <td>0</td>\n",
       "      <td>2</td>\n",
       "      <td>0</td>\n",
       "    </tr>\n",
       "    <tr>\n",
       "      <th>3116944</th>\n",
       "      <td>3116944</td>\n",
       "      <td>-0.667679</td>\n",
       "      <td>4</td>\n",
       "      <td>1</td>\n",
       "      <td>1</td>\n",
       "      <td>0</td>\n",
       "      <td>1</td>\n",
       "      <td>0</td>\n",
       "      <td>3</td>\n",
       "      <td>-1.306770</td>\n",
       "      <td>-0.415474</td>\n",
       "      <td>2</td>\n",
       "      <td>0</td>\n",
       "      <td>0</td>\n",
       "      <td>1</td>\n",
       "      <td>2</td>\n",
       "      <td>1</td>\n",
       "    </tr>\n",
       "  </tbody>\n",
       "</table>\n",
       "<p>3116945 rows × 17 columns</p>\n",
       "</div>"
      ],
      "text/plain": [
       "              id  cap-diameter  cap-shape  cap-surface  cap-color  \\\n",
       "0              0      0.534797          1            1          1   \n",
       "1              1     -0.386386          4            0          1   \n",
       "2              2      0.135403          1            1          1   \n",
       "3              3     -0.521664          1            3          1   \n",
       "4              4     -0.098651          4            0          2   \n",
       "...          ...           ...        ...          ...        ...   \n",
       "3116940  3116940      0.640013          1            2          0   \n",
       "3116941  3116941      0.981431          3            2          2   \n",
       "3116942  3116942      0.324363          4            0          1   \n",
       "3116943  3116943      0.674370          2            0          0   \n",
       "3116944  3116944     -0.667679          4            1          1   \n",
       "\n",
       "         does-bruise-or-bleed  gill-attachment  gill-spacing  gill-color  \\\n",
       "0                           0                0             0           3   \n",
       "1                           0                0             0           0   \n",
       "2                           0                3             0           3   \n",
       "3                           0                2             0           1   \n",
       "4                           0                1             0           3   \n",
       "...                       ...              ...           ...         ...   \n",
       "3116940                     2                0             0           3   \n",
       "3116941                     2                1             0           2   \n",
       "3116942                     0                0             0           3   \n",
       "3116943                     2                2             0           2   \n",
       "3116944                     0                1             0           3   \n",
       "\n",
       "         stem-height  stem-width  stem-color  has-ring  ring-type  habitat  \\\n",
       "0          -0.680893    0.523513           2         0          0        0   \n",
       "1          -0.577198   -0.577326           1         2          1        0   \n",
       "2           0.185705   -0.151075           0         0          0        2   \n",
       "3          -0.810513   -0.571148           2         0          0        0   \n",
       "4          -1.103082   -0.345050           2         0          0        1   \n",
       "...              ...         ...         ...       ...        ...      ...   \n",
       "3116940     2.144810    0.946057           2         2          1        0   \n",
       "3116941     0.111637    1.954232           2         0          0        0   \n",
       "3116942     1.170813   -0.011463           3         2          1        0   \n",
       "3116943     1.030083    0.817564           2         2          1        0   \n",
       "3116944    -1.306770   -0.415474           2         0          0        1   \n",
       "\n",
       "         season  class  \n",
       "0             0      0  \n",
       "1             3      1  \n",
       "2             3      0  \n",
       "3             2      0  \n",
       "4             0      0  \n",
       "...         ...    ...  \n",
       "3116940       2      0  \n",
       "3116941       2      0  \n",
       "3116942       0      1  \n",
       "3116943       2      0  \n",
       "3116944       2      1  \n",
       "\n",
       "[3116945 rows x 17 columns]"
      ]
     },
     "execution_count": 98,
     "metadata": {},
     "output_type": "execute_result"
    }
   ],
   "source": [
    "df_preprocessed = pd.concat([X,y],axis = 1)\n",
    "df_preprocessed"
   ]
  },
  {
   "cell_type": "code",
   "execution_count": 99,
   "metadata": {
    "execution": {
     "iopub.execute_input": "2024-08-12T10:51:41.547650Z",
     "iopub.status.busy": "2024-08-12T10:51:41.547156Z",
     "iopub.status.idle": "2024-08-12T10:52:23.104990Z",
     "shell.execute_reply": "2024-08-12T10:52:23.103792Z",
     "shell.execute_reply.started": "2024-08-12T10:51:41.547605Z"
    }
   },
   "outputs": [],
   "source": [
    "df_preprocessed.to_csv(\"df_preprocessed.csv\")"
   ]
  },
  {
   "cell_type": "markdown",
   "metadata": {
    "execution": {
     "iopub.execute_input": "2024-08-06T07:27:39.294280Z",
     "iopub.status.busy": "2024-08-06T07:27:39.292822Z",
     "iopub.status.idle": "2024-08-06T07:27:39.300337Z",
     "shell.execute_reply": "2024-08-06T07:27:39.298941Z",
     "shell.execute_reply.started": "2024-08-06T07:27:39.294228Z"
    }
   },
   "source": [
    "# Prochaine étape : Modelisation !"
   ]
  }
 ],
 "metadata": {
  "kaggle": {
   "accelerator": "none",
   "dataSources": [
    {
     "databundleVersionId": 9045607,
     "sourceId": 76727,
     "sourceType": "competition"
    }
   ],
   "dockerImageVersionId": 30746,
   "isGpuEnabled": false,
   "isInternetEnabled": true,
   "language": "python",
   "sourceType": "notebook"
  },
  "kernelspec": {
   "display_name": "Python 3 (ipykernel)",
   "language": "python",
   "name": "python3"
  },
  "language_info": {
   "codemirror_mode": {
    "name": "ipython",
    "version": 3
   },
   "file_extension": ".py",
   "mimetype": "text/x-python",
   "name": "python",
   "nbconvert_exporter": "python",
   "pygments_lexer": "ipython3",
   "version": "3.8.18"
  }
 },
 "nbformat": 4,
 "nbformat_minor": 4
}
