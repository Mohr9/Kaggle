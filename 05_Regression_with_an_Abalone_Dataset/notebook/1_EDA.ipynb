{
 "cells": [
  {
   "cell_type": "markdown",
   "id": "d2b11ba3",
   "metadata": {},
   "source": [
    "# Regression with an Abalone Dataset\n",
    "\n",
    "\n",
    "### Description du jeu de données : \n",
    "\n",
    "- L'ensemble de données pour cette compétition (à la fois pour la formation et le test) a été généré à partir d'un modèle d'apprentissage profond formé sur l'ensemble de données Abalone. Les distributions des caractéristiques sont proches, mais pas exactement les mêmes, que celles de l'original. \n",
    "\n",
    "- **Votre objectif** : L'objectif de ce concours est de prédire l'âge des ormeaux à partir de diverses mesures physiques\n",
    "\n",
    "\n",
    "Disponible sur : https://www.kaggle.com/competitions/playground-series-s4e4/overview"
   ]
  },
  {
   "cell_type": "code",
   "execution_count": null,
   "id": "1aa4a4e3",
   "metadata": {},
   "outputs": [],
   "source": [
    "import matplotlib.pyplot as plt\n",
    "import seaborn as sns\n",
    "# ^^^ pyforest auto-imports - don't write above this line\n"
   ]
  },
  {
   "cell_type": "code",
   "execution_count": 1,
   "id": "142b623a",
   "metadata": {},
   "outputs": [],
   "source": [
    "### Imports \n",
    "\n",
    "from sklearn.model_selection import train_test_split\n",
    "from sklearn.preprocessing import StandardScaler\n",
    "import pandas as pd\n",
    "# ^^^ pyforest auto-imports - don't write above this line\n",
    "import pyforest\n",
    "import missingno as msno\n",
    "\n",
    "\n",
    "#test statistique : \n",
    "from scipy.stats import spearmanr, kendalltau,pearsonr, shapiro\n",
    "\n",
    "#import outils reductions dimensions\n",
    "from sklearn.decomposition import PCA #linéaire\n",
    "from sklearn.manifold import TSNE #non linéaire pour structure locale\n",
    "\n",
    "\n",
    "\n",
    "\n",
    "#package modele non supervisé\n",
    "from yellowbrick.cluster import KElbowVisualizer, SilhouetteVisualizer #permet tracer courbe pour choisir bonne valeur KMeans\n",
    "from sklearn.cluster import KMeans\n",
    "\n",
    "\n",
    "\n",
    "import os\n",
    "import warnings\n",
    "warnings.filterwarnings(\"ignore\")"
   ]
  },
  {
   "cell_type": "markdown",
   "id": "a2a59305",
   "metadata": {},
   "source": [
    "# Plan : \n",
    "\n",
    "#### 1. Connaissance du jeu de données \n",
    "- Présence d'une target ?\n",
    "- Que signifie les features\n",
    "- Dimensions des données\n",
    "- Type de données et cohérence (variables discrètes : int, continues : float, qualitative : str)\n",
    "- Présence de données manquantes ? \n",
    "\n",
    "#### 2. Analyse univariée\n",
    "- Variables discrètes\n",
    "- Variables continues\n",
    "- Variables qualitatives\n"
   ]
  },
  {
   "cell_type": "code",
   "execution_count": 13,
   "id": "bf99617e",
   "metadata": {},
   "outputs": [],
   "source": [
    "path = r\"D:\\\\Etude_Data_science\\\\Kaggle_competition\\\\05_Regression_with_an_Abalone_Dataset\\\\datasets\\\\\""
   ]
  },
  {
   "cell_type": "code",
   "execution_count": 15,
   "id": "bb218753",
   "metadata": {},
   "outputs": [],
   "source": [
    "data = pd.read_csv(path+\"train.csv\")\n",
    "df = data.copy()"
   ]
  },
  {
   "cell_type": "code",
   "execution_count": 16,
   "id": "35b51127",
   "metadata": {},
   "outputs": [
    {
     "data": {
      "text/plain": [
       "(90615, 10)"
      ]
     },
     "execution_count": 16,
     "metadata": {},
     "output_type": "execute_result"
    }
   ],
   "source": [
    "df.shape"
   ]
  },
  {
   "cell_type": "code",
   "execution_count": 17,
   "id": "a3c3db3f",
   "metadata": {},
   "outputs": [
    {
     "data": {
      "text/html": [
       "<div>\n",
       "<style scoped>\n",
       "    .dataframe tbody tr th:only-of-type {\n",
       "        vertical-align: middle;\n",
       "    }\n",
       "\n",
       "    .dataframe tbody tr th {\n",
       "        vertical-align: top;\n",
       "    }\n",
       "\n",
       "    .dataframe thead th {\n",
       "        text-align: right;\n",
       "    }\n",
       "</style>\n",
       "<table border=\"1\" class=\"dataframe\">\n",
       "  <thead>\n",
       "    <tr style=\"text-align: right;\">\n",
       "      <th></th>\n",
       "      <th>id</th>\n",
       "      <th>Sex</th>\n",
       "      <th>Length</th>\n",
       "      <th>Diameter</th>\n",
       "      <th>Height</th>\n",
       "      <th>Whole weight</th>\n",
       "      <th>Whole weight.1</th>\n",
       "      <th>Whole weight.2</th>\n",
       "      <th>Shell weight</th>\n",
       "      <th>Rings</th>\n",
       "    </tr>\n",
       "  </thead>\n",
       "  <tbody>\n",
       "    <tr>\n",
       "      <th>0</th>\n",
       "      <td>0</td>\n",
       "      <td>F</td>\n",
       "      <td>0.550</td>\n",
       "      <td>0.430</td>\n",
       "      <td>0.150</td>\n",
       "      <td>0.7715</td>\n",
       "      <td>0.3285</td>\n",
       "      <td>0.1465</td>\n",
       "      <td>0.2400</td>\n",
       "      <td>11</td>\n",
       "    </tr>\n",
       "    <tr>\n",
       "      <th>1</th>\n",
       "      <td>1</td>\n",
       "      <td>F</td>\n",
       "      <td>0.630</td>\n",
       "      <td>0.490</td>\n",
       "      <td>0.145</td>\n",
       "      <td>1.1300</td>\n",
       "      <td>0.4580</td>\n",
       "      <td>0.2765</td>\n",
       "      <td>0.3200</td>\n",
       "      <td>11</td>\n",
       "    </tr>\n",
       "    <tr>\n",
       "      <th>2</th>\n",
       "      <td>2</td>\n",
       "      <td>I</td>\n",
       "      <td>0.160</td>\n",
       "      <td>0.110</td>\n",
       "      <td>0.025</td>\n",
       "      <td>0.0210</td>\n",
       "      <td>0.0055</td>\n",
       "      <td>0.0030</td>\n",
       "      <td>0.0050</td>\n",
       "      <td>6</td>\n",
       "    </tr>\n",
       "    <tr>\n",
       "      <th>3</th>\n",
       "      <td>3</td>\n",
       "      <td>M</td>\n",
       "      <td>0.595</td>\n",
       "      <td>0.475</td>\n",
       "      <td>0.150</td>\n",
       "      <td>0.9145</td>\n",
       "      <td>0.3755</td>\n",
       "      <td>0.2055</td>\n",
       "      <td>0.2500</td>\n",
       "      <td>10</td>\n",
       "    </tr>\n",
       "    <tr>\n",
       "      <th>4</th>\n",
       "      <td>4</td>\n",
       "      <td>I</td>\n",
       "      <td>0.555</td>\n",
       "      <td>0.425</td>\n",
       "      <td>0.130</td>\n",
       "      <td>0.7820</td>\n",
       "      <td>0.3695</td>\n",
       "      <td>0.1600</td>\n",
       "      <td>0.1975</td>\n",
       "      <td>9</td>\n",
       "    </tr>\n",
       "  </tbody>\n",
       "</table>\n",
       "</div>"
      ],
      "text/plain": [
       "   id Sex  Length  Diameter  Height  Whole weight  Whole weight.1  \\\n",
       "0   0   F   0.550     0.430   0.150        0.7715          0.3285   \n",
       "1   1   F   0.630     0.490   0.145        1.1300          0.4580   \n",
       "2   2   I   0.160     0.110   0.025        0.0210          0.0055   \n",
       "3   3   M   0.595     0.475   0.150        0.9145          0.3755   \n",
       "4   4   I   0.555     0.425   0.130        0.7820          0.3695   \n",
       "\n",
       "   Whole weight.2  Shell weight  Rings  \n",
       "0          0.1465        0.2400     11  \n",
       "1          0.2765        0.3200     11  \n",
       "2          0.0030        0.0050      6  \n",
       "3          0.2055        0.2500     10  \n",
       "4          0.1600        0.1975      9  "
      ]
     },
     "execution_count": 17,
     "metadata": {},
     "output_type": "execute_result"
    }
   ],
   "source": [
    "df.head()"
   ]
  },
  {
   "cell_type": "markdown",
   "id": "5a7ddb41",
   "metadata": {},
   "source": [
    "* **Abalone** = mollusque, pour lesquels on va avoir différents paramètres mesurés.\n",
    "- Features :\n",
    "- id; pour identifier l'individu\n",
    "- Sex, Length, Diameter, Height sont des paramètres sur la taille de l'individus et son sexe\n",
    "- Whole weight.1/2 sont les poids totaux\n",
    "- Shell weight : pids de la coque\n",
    "- **Rings** : anneaux, c'est **la target a prédire**, et elle est de type **integer** ( on peut supposer discrète)\n",
    "\n",
    "#### Kaggle evaluera les performances du modèle avec la RMSLE (Root Mean Squared Logarithmic Error) donc on peut considérer la target comme un problème de régression avec des données positives ou nulles (mais non négatives)"
   ]
  },
  {
   "cell_type": "code",
   "execution_count": 18,
   "id": "2c6ebea9",
   "metadata": {},
   "outputs": [
    {
     "name": "stdout",
     "output_type": "stream",
     "text": [
      "<class 'pandas.core.frame.DataFrame'>\n",
      "RangeIndex: 90615 entries, 0 to 90614\n",
      "Data columns (total 10 columns):\n",
      " #   Column          Non-Null Count  Dtype  \n",
      "---  ------          --------------  -----  \n",
      " 0   id              90615 non-null  int64  \n",
      " 1   Sex             90615 non-null  object \n",
      " 2   Length          90615 non-null  float64\n",
      " 3   Diameter        90615 non-null  float64\n",
      " 4   Height          90615 non-null  float64\n",
      " 5   Whole weight    90615 non-null  float64\n",
      " 6   Whole weight.1  90615 non-null  float64\n",
      " 7   Whole weight.2  90615 non-null  float64\n",
      " 8   Shell weight    90615 non-null  float64\n",
      " 9   Rings           90615 non-null  int64  \n",
      "dtypes: float64(7), int64(2), object(1)\n",
      "memory usage: 6.9+ MB\n"
     ]
    }
   ],
   "source": [
    "df.info()"
   ]
  },
  {
   "cell_type": "markdown",
   "id": "229a16d8",
   "metadata": {},
   "source": [
    "Concernant le reste des infos, il y a une cohérence entre le dtype d'une feature et la feature elle même \n",
    "- integer pour des variables quantitatives discrètes,\n",
    "- object pour variable qualitative \n",
    "- float pour des variables quantitatives continues\n",
    "\n",
    "* On notera par la même occasion qu'il **n'y a pas de données manquantes donc pas besoin d'imputation**"
   ]
  },
  {
   "cell_type": "markdown",
   "id": "203ad3e7",
   "metadata": {},
   "source": [
    "# 2. Analyse univariée\n",
    "#### Séparation des données en fonction du type de variable"
   ]
  },
  {
   "cell_type": "code",
   "execution_count": 25,
   "id": "b2b0a023",
   "metadata": {},
   "outputs": [],
   "source": [
    "#Retirons l'id car nous n'allons pas l'analyser :\n",
    "identifiant = df.id\n",
    "df = df.drop(\"id\", axis = 1)"
   ]
  },
  {
   "cell_type": "code",
   "execution_count": 31,
   "id": "b214e665",
   "metadata": {},
   "outputs": [],
   "source": [
    "#Séparons les données \n",
    "var_dis = list(df.select_dtypes(int).columns)\n",
    "var_cont = list(df.select_dtypes(float))\n",
    "var_qual = list(df.select_dtypes(object))"
   ]
  },
  {
   "cell_type": "markdown",
   "id": "307cc597",
   "metadata": {},
   "source": [
    "### 2.1 Variables discrètes\n",
    "- Nous avons vu dans la section précédente que le type de donnée était cohérent avec la feature elle même, donc on peut facilement séparer les types de données"
   ]
  },
  {
   "cell_type": "code",
   "execution_count": 39,
   "id": "51519ff9",
   "metadata": {},
   "outputs": [
    {
     "data": {
      "text/plain": [
       "['Rings']"
      ]
     },
     "execution_count": 39,
     "metadata": {},
     "output_type": "execute_result"
    }
   ],
   "source": [
    "var_dis #Seulement une colonne a analyser"
   ]
  },
  {
   "cell_type": "code",
   "execution_count": 49,
   "id": "e7ac5b40",
   "metadata": {},
   "outputs": [
    {
     "data": {
      "application/javascript": [
       "\n",
       "        if (window._pyforest_update_imports_cell) { window._pyforest_update_imports_cell('import matplotlib.pyplot as plt\\nimport seaborn as sns'); }\n",
       "    "
      ],
      "text/plain": [
       "<IPython.core.display.Javascript object>"
      ]
     },
     "metadata": {},
     "output_type": "display_data"
    },
    {
     "data": {
      "application/javascript": [
       "\n",
       "        if (window._pyforest_update_imports_cell) { window._pyforest_update_imports_cell('import matplotlib.pyplot as plt\\nimport seaborn as sns'); }\n",
       "    "
      ],
      "text/plain": [
       "<IPython.core.display.Javascript object>"
      ]
     },
     "metadata": {},
     "output_type": "display_data"
    },
    {
     "data": {
      "application/javascript": [
       "\n",
       "        if (window._pyforest_update_imports_cell) { window._pyforest_update_imports_cell('import matplotlib.pyplot as plt\\nimport seaborn as sns'); }\n",
       "    "
      ],
      "text/plain": [
       "<IPython.core.display.Javascript object>"
      ]
     },
     "metadata": {},
     "output_type": "display_data"
    },
    {
     "data": {
      "image/png": "[encoded data removed]",
      "text/plain": [
       "<Figure size 1200x400 with 1 Axes>"
      ]
     },
     "metadata": {},
     "output_type": "display_data"
    },
    {
     "name": "stdout",
     "output_type": "stream",
     "text": [
      "Mean : 9.7\n",
      "Mode : 9\n"
     ]
    }
   ],
   "source": [
    "plt.figure(figsize=(12,4))\n",
    "sns.countplot(data = df[var_dis], x = var_dis[0] )\n",
    "plt.show()\n",
    "print(\"Mean :\",round(df[var_dis[0]].mean(),2))\n",
    "print(\"Mode :\",df.Rings.mode()[0])"
   ]
  },
  {
   "cell_type": "markdown",
   "id": "d9027b81",
   "metadata": {},
   "source": [
    "* On voit très clairement ici que notre target suit une loi de distribution normale, avec un mode de 9 anneaux et une moyenne de 9.7\n",
    "* La gamme s'étend de 1 anneau à 29"
   ]
  },
  {
   "cell_type": "markdown",
   "id": "9642c891",
   "metadata": {},
   "source": [
    "### 2.2 Variables continues\n"
   ]
  },
  {
   "cell_type": "code",
   "execution_count": 58,
   "id": "3a65b54c",
   "metadata": {},
   "outputs": [
    {
     "name": "stdout",
     "output_type": "stream",
     "text": [
      "['Length', 'Diameter', 'Height', 'Whole weight', 'Whole weight.1', 'Whole weight.2', 'Shell weight']\n",
      "Il y a 7 features à analyser \n"
     ]
    }
   ],
   "source": [
    "print(var_cont)\n",
    "print(\"Il y a\", len(var_cont), \"features à analyser \")"
   ]
  },
  {
   "cell_type": "code",
   "execution_count": 59,
   "id": "8cb49d2b",
   "metadata": {},
   "outputs": [
    {
     "data": {
      "application/javascript": [
       "\n",
       "        if (window._pyforest_update_imports_cell) { window._pyforest_update_imports_cell('import matplotlib.pyplot as plt\\nimport seaborn as sns'); }\n",
       "    "
      ],
      "text/plain": [
       "<IPython.core.display.Javascript object>"
      ]
     },
     "metadata": {},
     "output_type": "display_data"
    },
    {
     "data": {
      "image/png": "[encoded data removed]",
      "text/plain": [
       "<Figure size 800x550 with 8 Axes>"
      ]
     },
     "metadata": {},
     "output_type": "display_data"
    }
   ],
   "source": [
    "#On va créer un subplot de dimension (2,4) pour analyser toutes ces variables\n",
    "fig, axes = plt.subplots(2,4) #2 lignes et 4 colonnes"
   ]
  },
  {
   "cell_type": "markdown",
   "id": "45ceaab5",
   "metadata": {},
   "source": [
    "### 2.3 Variables qualitatives"
   ]
  }
 ],
 "metadata": {
  "kernelspec": {
   "display_name": "Python 3 (ipykernel)",
   "language": "python",
   "name": "python3"
  },
  "language_info": {
   "codemirror_mode": {
    "name": "ipython",
    "version": 3
   },
   "file_extension": ".py",
   "mimetype": "text/x-python",
   "name": "python",
   "nbconvert_exporter": "python",
   "pygments_lexer": "ipython3",
   "version": "3.8.18"
  }
 },
 "nbformat": 4,
 "nbformat_minor": 5
}
